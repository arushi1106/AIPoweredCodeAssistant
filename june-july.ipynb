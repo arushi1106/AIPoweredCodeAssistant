{
 "cells": [
  {
   "metadata": {
    "ExecuteTime": {
     "end_time": "2025-06-21T16:19:00.572454Z",
     "start_time": "2025-06-21T16:18:58.537606Z"
    }
   },
   "cell_type": "code",
   "source": "!pip install xgboost",
   "id": "c5c94d36a0e2b220",
   "outputs": [
    {
     "name": "stdout",
     "output_type": "stream",
     "text": [
      "Requirement already satisfied: xgboost in ./venv/lib/python3.10/site-packages (3.0.2)\r\n",
      "Requirement already satisfied: numpy in ./venv/lib/python3.10/site-packages (from xgboost) (1.26.4)\r\n",
      "Requirement already satisfied: scipy in ./venv/lib/python3.10/site-packages (from xgboost) (1.15.2)\r\n"
     ]
    }
   ],
   "execution_count": 1
  },
  {
   "metadata": {
    "ExecuteTime": {
     "end_time": "2025-06-21T16:19:19.143053Z",
     "start_time": "2025-06-21T16:19:07.875421Z"
    }
   },
   "cell_type": "code",
   "source": "!brew install libomp",
   "id": "156c79b8b53505d4",
   "outputs": [
    {
     "name": "stdout",
     "output_type": "stream",
     "text": [
      "\u001B[34m==>\u001B[0m \u001B[1mAuto-updating Homebrew...\u001B[0m\r\n",
      "Adjust how often this is run with HOMEBREW_AUTO_UPDATE_SECS or disable with\r\n",
      "HOMEBREW_NO_AUTO_UPDATE. Hide these hints with HOMEBREW_NO_ENV_HINTS (see `man brew`).\r\n",
      "\u001B[34m==>\u001B[0m \u001B[1mAuto-updated Homebrew!\u001B[0m\r\n",
      "Updated 2 taps (homebrew/core and homebrew/cask).\r\n",
      "\u001B[34m==>\u001B[0m \u001B[1mNew Formulae\u001B[0m\r\n",
      "arp-scan-rs     kbt             mermaid-cli     rnp             tiledb\r\n",
      "go-rice         lolcrab         ovsx            sherif\r\n",
      "\u001B[34m==>\u001B[0m \u001B[1mNew Casks\u001B[0m\r\n",
      "accordance@13              linqpad                    macsyzones\r\n",
      "\r\n",
      "You have \u001B[1m83\u001B[0m outdated formulae installed.\r\n",
      "\r\n",
      "\u001B[33mWarning:\u001B[0m libomp 20.1.7 is already installed and up-to-date.\r\n",
      "To reinstall 20.1.7, run:\r\n",
      "  brew reinstall libomp\r\n"
     ]
    }
   ],
   "execution_count": 2
  },
  {
   "metadata": {
    "ExecuteTime": {
     "end_time": "2025-06-21T16:20:04.731905Z",
     "start_time": "2025-06-21T16:20:02.488613Z"
    }
   },
   "cell_type": "code",
   "source": "!pip install tensorflow",
   "id": "6d6435f3fbf799d9",
   "outputs": [
    {
     "name": "stdout",
     "output_type": "stream",
     "text": [
      "Requirement already satisfied: tensorflow in ./venv/lib/python3.10/site-packages (2.16.2)\r\n",
      "Requirement already satisfied: absl-py>=1.0.0 in ./venv/lib/python3.10/site-packages (from tensorflow) (2.3.0)\r\n",
      "Requirement already satisfied: astunparse>=1.6.0 in ./venv/lib/python3.10/site-packages (from tensorflow) (1.6.3)\r\n",
      "Requirement already satisfied: flatbuffers>=23.5.26 in ./venv/lib/python3.10/site-packages (from tensorflow) (25.2.10)\r\n",
      "Requirement already satisfied: gast!=0.5.0,!=0.5.1,!=0.5.2,>=0.2.1 in ./venv/lib/python3.10/site-packages (from tensorflow) (0.6.0)\r\n",
      "Requirement already satisfied: google-pasta>=0.1.1 in ./venv/lib/python3.10/site-packages (from tensorflow) (0.2.0)\r\n",
      "Requirement already satisfied: h5py>=3.10.0 in ./venv/lib/python3.10/site-packages (from tensorflow) (3.14.0)\r\n",
      "Requirement already satisfied: libclang>=13.0.0 in ./venv/lib/python3.10/site-packages (from tensorflow) (18.1.1)\r\n",
      "Requirement already satisfied: ml-dtypes~=0.3.1 in ./venv/lib/python3.10/site-packages (from tensorflow) (0.3.2)\r\n",
      "Requirement already satisfied: opt-einsum>=2.3.2 in ./venv/lib/python3.10/site-packages (from tensorflow) (3.4.0)\r\n",
      "Requirement already satisfied: packaging in ./venv/lib/python3.10/site-packages (from tensorflow) (25.0)\r\n",
      "Requirement already satisfied: protobuf!=4.21.0,!=4.21.1,!=4.21.2,!=4.21.3,!=4.21.4,!=4.21.5,<5.0.0dev,>=3.20.3 in ./venv/lib/python3.10/site-packages (from tensorflow) (4.25.8)\r\n",
      "Requirement already satisfied: requests<3,>=2.21.0 in ./venv/lib/python3.10/site-packages (from tensorflow) (2.32.3)\r\n",
      "Requirement already satisfied: setuptools in ./venv/lib/python3.10/site-packages (from tensorflow) (68.2.0)\r\n",
      "Requirement already satisfied: six>=1.12.0 in ./venv/lib/python3.10/site-packages (from tensorflow) (1.17.0)\r\n",
      "Requirement already satisfied: termcolor>=1.1.0 in ./venv/lib/python3.10/site-packages (from tensorflow) (3.1.0)\r\n",
      "Requirement already satisfied: typing-extensions>=3.6.6 in ./venv/lib/python3.10/site-packages (from tensorflow) (4.13.2)\r\n",
      "Requirement already satisfied: wrapt>=1.11.0 in ./venv/lib/python3.10/site-packages (from tensorflow) (1.17.2)\r\n",
      "Requirement already satisfied: grpcio<2.0,>=1.24.3 in ./venv/lib/python3.10/site-packages (from tensorflow) (1.73.0)\r\n",
      "Requirement already satisfied: tensorboard<2.17,>=2.16 in ./venv/lib/python3.10/site-packages (from tensorflow) (2.16.2)\r\n",
      "Requirement already satisfied: keras>=3.0.0 in ./venv/lib/python3.10/site-packages (from tensorflow) (3.10.0)\r\n",
      "Requirement already satisfied: tensorflow-io-gcs-filesystem>=0.23.1 in ./venv/lib/python3.10/site-packages (from tensorflow) (0.37.1)\r\n",
      "Requirement already satisfied: numpy<2.0.0,>=1.23.5 in ./venv/lib/python3.10/site-packages (from tensorflow) (1.26.4)\r\n",
      "Requirement already satisfied: charset-normalizer<4,>=2 in ./venv/lib/python3.10/site-packages (from requests<3,>=2.21.0->tensorflow) (3.4.1)\r\n",
      "Requirement already satisfied: idna<4,>=2.5 in ./venv/lib/python3.10/site-packages (from requests<3,>=2.21.0->tensorflow) (3.10)\r\n",
      "Requirement already satisfied: urllib3<3,>=1.21.1 in ./venv/lib/python3.10/site-packages (from requests<3,>=2.21.0->tensorflow) (2.4.0)\r\n",
      "Requirement already satisfied: certifi>=2017.4.17 in ./venv/lib/python3.10/site-packages (from requests<3,>=2.21.0->tensorflow) (2025.1.31)\r\n",
      "Requirement already satisfied: markdown>=2.6.8 in ./venv/lib/python3.10/site-packages (from tensorboard<2.17,>=2.16->tensorflow) (3.8.1)\r\n",
      "Requirement already satisfied: tensorboard-data-server<0.8.0,>=0.7.0 in ./venv/lib/python3.10/site-packages (from tensorboard<2.17,>=2.16->tensorflow) (0.7.2)\r\n",
      "Requirement already satisfied: werkzeug>=1.0.1 in ./venv/lib/python3.10/site-packages (from tensorboard<2.17,>=2.16->tensorflow) (3.1.3)\r\n",
      "Requirement already satisfied: wheel<1.0,>=0.23.0 in ./venv/lib/python3.10/site-packages (from astunparse>=1.6.0->tensorflow) (0.41.2)\r\n",
      "Requirement already satisfied: rich in ./venv/lib/python3.10/site-packages (from keras>=3.0.0->tensorflow) (14.0.0)\r\n",
      "Requirement already satisfied: namex in ./venv/lib/python3.10/site-packages (from keras>=3.0.0->tensorflow) (0.1.0)\r\n",
      "Requirement already satisfied: optree in ./venv/lib/python3.10/site-packages (from keras>=3.0.0->tensorflow) (0.16.0)\r\n",
      "Requirement already satisfied: MarkupSafe>=2.1.1 in ./venv/lib/python3.10/site-packages (from werkzeug>=1.0.1->tensorboard<2.17,>=2.16->tensorflow) (3.0.2)\r\n",
      "Requirement already satisfied: markdown-it-py>=2.2.0 in ./venv/lib/python3.10/site-packages (from rich->keras>=3.0.0->tensorflow) (3.0.0)\r\n",
      "Requirement already satisfied: pygments<3.0.0,>=2.13.0 in ./venv/lib/python3.10/site-packages (from rich->keras>=3.0.0->tensorflow) (2.19.1)\r\n",
      "Requirement already satisfied: mdurl~=0.1 in ./venv/lib/python3.10/site-packages (from markdown-it-py>=2.2.0->rich->keras>=3.0.0->tensorflow) (0.1.2)\r\n"
     ]
    }
   ],
   "execution_count": 7
  },
  {
   "metadata": {
    "ExecuteTime": {
     "end_time": "2025-06-21T16:52:09.753698Z",
     "start_time": "2025-06-21T16:51:58.834275Z"
    }
   },
   "cell_type": "code",
   "source": [
    "from tensorflow.keras.models import Model\n",
    "from tensorflow.keras.layers import Input, Embedding, Conv1D, GlobalMaxPooling1D, Dense, Concatenate, Dropout\n",
    "from tensorflow.keras.optimizers import Adam\n",
    "from tensorflow.keras.preprocessing.sequence import pad_sequences\n",
    "from sklearn.metrics import accuracy_score, f1_score, confusion_matrix\n",
    "from sklearn.preprocessing import StandardScaler\n",
    "import pandas as pd\n",
    "import numpy as np\n",
    "import ast\n"
   ],
   "id": "d5f963906f68e803",
   "outputs": [
    {
     "name": "stderr",
     "output_type": "stream",
     "text": [
      "2025-06-21 17:52:01.453741: I tensorflow/core/platform/cpu_feature_guard.cc:210] This TensorFlow binary is optimized to use available CPU instructions in performance-critical operations.\n",
      "To enable the following instructions: AVX2 FMA, in other operations, rebuild TensorFlow with the appropriate compiler flags.\n"
     ]
    }
   ],
   "execution_count": 1
  },
  {
   "metadata": {
    "ExecuteTime": {
     "end_time": "2025-06-21T16:52:52.924663Z",
     "start_time": "2025-06-21T16:52:27.647190Z"
    }
   },
   "cell_type": "code",
   "source": [
    "# Load preprocessed CSVs\n",
    "train_df = pd.read_csv(\"datasets/security/train_preprocessed.csv\")\n",
    "valid_df = pd.read_csv(\"datasets/security/valid_preprocessed.csv\")\n",
    "test_df = pd.read_csv(\"datasets/security/test_preprocessed.csv\")\n",
    "\n",
    "MAX_LEN = 300\n",
    "\n",
    "def parse_sequence(x): return ast.literal_eval(x)[:MAX_LEN]\n",
    "X_train_seq = pad_sequences(train_df['input_ids'].apply(parse_sequence), maxlen=MAX_LEN)\n",
    "X_valid_seq = pad_sequences(valid_df['input_ids'].apply(parse_sequence), maxlen=MAX_LEN)\n",
    "X_test_seq = pad_sequences(test_df['input_ids'].apply(parse_sequence), maxlen=MAX_LEN)"
   ],
   "id": "f16bd5c39b5f2f72",
   "outputs": [],
   "execution_count": 2
  },
  {
   "metadata": {
    "ExecuteTime": {
     "end_time": "2025-06-21T16:53:03.527894Z",
     "start_time": "2025-06-21T16:53:03.184425Z"
    }
   },
   "cell_type": "code",
   "source": [
    "# Select top 10 tabular features\n",
    "features = [col for col in train_df.columns if col not in ['id', 'project', 'commit_id', 'tokens', 'func', 'input_ids', 'attention_mask', 'target']]\n",
    "from xgboost import XGBClassifier\n",
    "xgb = XGBClassifier(n_estimators=100, max_depth=6, random_state=42)\n",
    "xgb.fit(train_df[features], train_df['target'].astype(int))\n",
    "top_features = pd.Series(xgb.feature_importances_, index=features).sort_values(ascending=False).head(10).index.tolist()\n",
    "\n",
    "X_train_tab = train_df[top_features]\n",
    "X_valid_tab = valid_df[top_features]\n",
    "X_test_tab = test_df[top_features]\n",
    "\n",
    "scaler = StandardScaler()\n",
    "X_train_tab_scaled = scaler.fit_transform(X_train_tab)\n",
    "X_valid_tab_scaled = scaler.transform(X_valid_tab)\n",
    "X_test_tab_scaled = scaler.transform(X_test_tab)\n",
    "\n",
    "y_train = train_df['target'].astype(int)\n",
    "y_valid = valid_df['target'].astype(int)\n",
    "y_test = test_df['target'].astype(int)"
   ],
   "id": "5972d7eb66976066",
   "outputs": [],
   "execution_count": 3
  },
  {
   "metadata": {
    "ExecuteTime": {
     "end_time": "2025-06-21T16:53:04.537675Z",
     "start_time": "2025-06-21T16:53:04.504225Z"
    }
   },
   "cell_type": "code",
   "source": [
    "# Combine train and valid\n",
    "X_seq_comb = np.concatenate([X_train_seq, X_valid_seq])\n",
    "X_tab_comb = np.concatenate([X_train_tab_scaled, X_valid_tab_scaled])\n",
    "y_comb = np.concatenate([y_train, y_valid])"
   ],
   "id": "31c4816f7d57f48a",
   "outputs": [],
   "execution_count": 4
  },
  {
   "metadata": {
    "ExecuteTime": {
     "end_time": "2025-06-21T17:14:18.869120Z",
     "start_time": "2025-06-21T16:53:36.042155Z"
    }
   },
   "cell_type": "code",
   "source": [
    "# CNN + Tabular Model\n",
    "vocab_size = max(np.max(X_seq_comb), np.max(X_test_seq)) + 1\n",
    "\n",
    "embed_dim = 64\n",
    "\n",
    "seq_input = Input(shape=(MAX_LEN,))\n",
    "embed = Embedding(input_dim=vocab_size, output_dim=embed_dim)(seq_input)\n",
    "conv = Conv1D(128, 5, activation='relu')(embed)\n",
    "pool = GlobalMaxPooling1D()(conv)\n",
    "\n",
    "tab_input = Input(shape=(X_tab_comb.shape[1],))\n",
    "concat = Concatenate()([pool, tab_input])\n",
    "dense = Dense(64, activation='relu')(concat)\n",
    "drop = Dropout(0.3)(dense)\n",
    "output = Dense(1, activation='sigmoid')(drop)\n",
    "\n",
    "model = Model(inputs=[seq_input, tab_input], outputs=output)\n",
    "model.compile(optimizer=Adam(0.001), loss='binary_crossentropy', metrics=['accuracy'])\n",
    "\n",
    "model.fit([X_seq_comb, X_tab_comb], y_comb, validation_data=([X_valid_seq, X_valid_tab_scaled], y_valid), epochs=10, batch_size=64)"
   ],
   "id": "27c7b378391a62f1",
   "outputs": [
    {
     "name": "stdout",
     "output_type": "stream",
     "text": [
      "Epoch 1/10\n",
      "\u001B[1m385/385\u001B[0m \u001B[32m━━━━━━━━━━━━━━━━━━━━\u001B[0m\u001B[37m\u001B[0m \u001B[1m134s\u001B[0m 344ms/step - accuracy: 0.5455 - loss: 0.6880 - val_accuracy: 0.7694 - val_loss: 0.5615\n",
      "Epoch 2/10\n",
      "\u001B[1m385/385\u001B[0m \u001B[32m━━━━━━━━━━━━━━━━━━━━\u001B[0m\u001B[37m\u001B[0m \u001B[1m131s\u001B[0m 339ms/step - accuracy: 0.7369 - loss: 0.5258 - val_accuracy: 0.9129 - val_loss: 0.3047\n",
      "Epoch 3/10\n",
      "\u001B[1m385/385\u001B[0m \u001B[32m━━━━━━━━━━━━━━━━━━━━\u001B[0m\u001B[37m\u001B[0m \u001B[1m129s\u001B[0m 335ms/step - accuracy: 0.8898 - loss: 0.2687 - val_accuracy: 0.9502 - val_loss: 0.1731\n",
      "Epoch 4/10\n",
      "\u001B[1m385/385\u001B[0m \u001B[32m━━━━━━━━━━━━━━━━━━━━\u001B[0m\u001B[37m\u001B[0m \u001B[1m133s\u001B[0m 346ms/step - accuracy: 0.9330 - loss: 0.1595 - val_accuracy: 0.9704 - val_loss: 0.0890\n",
      "Epoch 5/10\n",
      "\u001B[1m385/385\u001B[0m \u001B[32m━━━━━━━━━━━━━━━━━━━━\u001B[0m\u001B[37m\u001B[0m \u001B[1m132s\u001B[0m 343ms/step - accuracy: 0.9539 - loss: 0.1038 - val_accuracy: 0.9733 - val_loss: 0.0642\n",
      "Epoch 6/10\n",
      "\u001B[1m385/385\u001B[0m \u001B[32m━━━━━━━━━━━━━━━━━━━━\u001B[0m\u001B[37m\u001B[0m \u001B[1m122s\u001B[0m 317ms/step - accuracy: 0.9688 - loss: 0.0701 - val_accuracy: 0.9817 - val_loss: 0.0440\n",
      "Epoch 7/10\n",
      "\u001B[1m385/385\u001B[0m \u001B[32m━━━━━━━━━━━━━━━━━━━━\u001B[0m\u001B[37m\u001B[0m \u001B[1m116s\u001B[0m 301ms/step - accuracy: 0.9754 - loss: 0.0495 - val_accuracy: 0.9821 - val_loss: 0.0347\n",
      "Epoch 8/10\n",
      "\u001B[1m385/385\u001B[0m \u001B[32m━━━━━━━━━━━━━━━━━━━━\u001B[0m\u001B[37m\u001B[0m \u001B[1m116s\u001B[0m 301ms/step - accuracy: 0.9814 - loss: 0.0402 - val_accuracy: 0.9843 - val_loss: 0.0283\n",
      "Epoch 9/10\n",
      "\u001B[1m385/385\u001B[0m \u001B[32m━━━━━━━━━━━━━━━━━━━━\u001B[0m\u001B[37m\u001B[0m \u001B[1m115s\u001B[0m 298ms/step - accuracy: 0.9837 - loss: 0.0321 - val_accuracy: 0.9839 - val_loss: 0.0252\n",
      "Epoch 10/10\n",
      "\u001B[1m385/385\u001B[0m \u001B[32m━━━━━━━━━━━━━━━━━━━━\u001B[0m\u001B[37m\u001B[0m \u001B[1m115s\u001B[0m 298ms/step - accuracy: 0.9835 - loss: 0.0287 - val_accuracy: 0.9868 - val_loss: 0.0215\n"
     ]
    },
    {
     "data": {
      "text/plain": [
       "<keras.src.callbacks.history.History at 0x139313be0>"
      ]
     },
     "execution_count": 5,
     "metadata": {},
     "output_type": "execute_result"
    }
   ],
   "execution_count": 5
  },
  {
   "metadata": {
    "ExecuteTime": {
     "end_time": "2025-06-21T17:15:48.908285Z",
     "start_time": "2025-06-21T17:15:48.117957Z"
    }
   },
   "cell_type": "code",
   "source": [
    "# Evaluate\n",
    "y_test_pred = (model.predict([X_test_seq, X_test_tab_scaled]) > 0.5).astype(int)\n",
    "print(\"Accuracy:\", accuracy_score(y_test, y_test_pred))\n",
    "print(\"F1 Score:\", f1_score(y_test, y_test_pred))\n",
    "print(\"Confusion Matrix:\\n\", confusion_matrix(y_test, y_test_pred))"
   ],
   "id": "53ce0866703a89e8",
   "outputs": [
    {
     "name": "stdout",
     "output_type": "stream",
     "text": [
      "\u001B[1m86/86\u001B[0m \u001B[32m━━━━━━━━━━━━━━━━━━━━\u001B[0m\u001B[37m\u001B[0m \u001B[1m1s\u001B[0m 6ms/step\n",
      "Accuracy: 0.5871156661786238\n",
      "F1 Score: 0.5837638376383764\n",
      "Confusion Matrix:\n",
      " [[813 664]\n",
      " [464 791]]\n"
     ]
    }
   ],
   "execution_count": 6
  },
  {
   "metadata": {},
   "cell_type": "code",
   "outputs": [],
   "execution_count": null,
   "source": "",
   "id": "a4997379ece39130"
  }
 ],
 "metadata": {
  "kernelspec": {
   "display_name": "Python 3",
   "language": "python",
   "name": "python3"
  },
  "language_info": {
   "codemirror_mode": {
    "name": "ipython",
    "version": 2
   },
   "file_extension": ".py",
   "mimetype": "text/x-python",
   "name": "python",
   "nbconvert_exporter": "python",
   "pygments_lexer": "ipython2",
   "version": "2.7.6"
  }
 },
 "nbformat": 4,
 "nbformat_minor": 5
}
