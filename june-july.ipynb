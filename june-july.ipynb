{
 "cells": [
  {
   "metadata": {
    "ExecuteTime": {
     "end_time": "2025-06-21T16:19:00.572454Z",
     "start_time": "2025-06-21T16:18:58.537606Z"
    }
   },
   "cell_type": "code",
   "source": "!pip install xgboost",
   "id": "c5c94d36a0e2b220",
   "outputs": [
    {
     "name": "stdout",
     "output_type": "stream",
     "text": [
      "Requirement already satisfied: xgboost in ./venv/lib/python3.10/site-packages (3.0.2)\r\n",
      "Requirement already satisfied: numpy in ./venv/lib/python3.10/site-packages (from xgboost) (1.26.4)\r\n",
      "Requirement already satisfied: scipy in ./venv/lib/python3.10/site-packages (from xgboost) (1.15.2)\r\n"
     ]
    }
   ],
   "execution_count": 1
  },
  {
   "metadata": {
    "ExecuteTime": {
     "end_time": "2025-06-21T16:19:19.143053Z",
     "start_time": "2025-06-21T16:19:07.875421Z"
    }
   },
   "cell_type": "code",
   "source": "!brew install libomp",
   "id": "156c79b8b53505d4",
   "outputs": [
    {
     "name": "stdout",
     "output_type": "stream",
     "text": [
      "\u001B[34m==>\u001B[0m \u001B[1mAuto-updating Homebrew...\u001B[0m\r\n",
      "Adjust how often this is run with HOMEBREW_AUTO_UPDATE_SECS or disable with\r\n",
      "HOMEBREW_NO_AUTO_UPDATE. Hide these hints with HOMEBREW_NO_ENV_HINTS (see `man brew`).\r\n",
      "\u001B[34m==>\u001B[0m \u001B[1mAuto-updated Homebrew!\u001B[0m\r\n",
      "Updated 2 taps (homebrew/core and homebrew/cask).\r\n",
      "\u001B[34m==>\u001B[0m \u001B[1mNew Formulae\u001B[0m\r\n",
      "arp-scan-rs     kbt             mermaid-cli     rnp             tiledb\r\n",
      "go-rice         lolcrab         ovsx            sherif\r\n",
      "\u001B[34m==>\u001B[0m \u001B[1mNew Casks\u001B[0m\r\n",
      "accordance@13              linqpad                    macsyzones\r\n",
      "\r\n",
      "You have \u001B[1m83\u001B[0m outdated formulae installed.\r\n",
      "\r\n",
      "\u001B[33mWarning:\u001B[0m libomp 20.1.7 is already installed and up-to-date.\r\n",
      "To reinstall 20.1.7, run:\r\n",
      "  brew reinstall libomp\r\n"
     ]
    }
   ],
   "execution_count": 2
  },
  {
   "metadata": {
    "ExecuteTime": {
     "end_time": "2025-06-21T16:20:04.731905Z",
     "start_time": "2025-06-21T16:20:02.488613Z"
    }
   },
   "cell_type": "code",
   "source": "!pip install tensorflow",
   "id": "6d6435f3fbf799d9",
   "outputs": [
    {
     "name": "stdout",
     "output_type": "stream",
     "text": [
      "Requirement already satisfied: tensorflow in ./venv/lib/python3.10/site-packages (2.16.2)\r\n",
      "Requirement already satisfied: absl-py>=1.0.0 in ./venv/lib/python3.10/site-packages (from tensorflow) (2.3.0)\r\n",
      "Requirement already satisfied: astunparse>=1.6.0 in ./venv/lib/python3.10/site-packages (from tensorflow) (1.6.3)\r\n",
      "Requirement already satisfied: flatbuffers>=23.5.26 in ./venv/lib/python3.10/site-packages (from tensorflow) (25.2.10)\r\n",
      "Requirement already satisfied: gast!=0.5.0,!=0.5.1,!=0.5.2,>=0.2.1 in ./venv/lib/python3.10/site-packages (from tensorflow) (0.6.0)\r\n",
      "Requirement already satisfied: google-pasta>=0.1.1 in ./venv/lib/python3.10/site-packages (from tensorflow) (0.2.0)\r\n",
      "Requirement already satisfied: h5py>=3.10.0 in ./venv/lib/python3.10/site-packages (from tensorflow) (3.14.0)\r\n",
      "Requirement already satisfied: libclang>=13.0.0 in ./venv/lib/python3.10/site-packages (from tensorflow) (18.1.1)\r\n",
      "Requirement already satisfied: ml-dtypes~=0.3.1 in ./venv/lib/python3.10/site-packages (from tensorflow) (0.3.2)\r\n",
      "Requirement already satisfied: opt-einsum>=2.3.2 in ./venv/lib/python3.10/site-packages (from tensorflow) (3.4.0)\r\n",
      "Requirement already satisfied: packaging in ./venv/lib/python3.10/site-packages (from tensorflow) (25.0)\r\n",
      "Requirement already satisfied: protobuf!=4.21.0,!=4.21.1,!=4.21.2,!=4.21.3,!=4.21.4,!=4.21.5,<5.0.0dev,>=3.20.3 in ./venv/lib/python3.10/site-packages (from tensorflow) (4.25.8)\r\n",
      "Requirement already satisfied: requests<3,>=2.21.0 in ./venv/lib/python3.10/site-packages (from tensorflow) (2.32.3)\r\n",
      "Requirement already satisfied: setuptools in ./venv/lib/python3.10/site-packages (from tensorflow) (68.2.0)\r\n",
      "Requirement already satisfied: six>=1.12.0 in ./venv/lib/python3.10/site-packages (from tensorflow) (1.17.0)\r\n",
      "Requirement already satisfied: termcolor>=1.1.0 in ./venv/lib/python3.10/site-packages (from tensorflow) (3.1.0)\r\n",
      "Requirement already satisfied: typing-extensions>=3.6.6 in ./venv/lib/python3.10/site-packages (from tensorflow) (4.13.2)\r\n",
      "Requirement already satisfied: wrapt>=1.11.0 in ./venv/lib/python3.10/site-packages (from tensorflow) (1.17.2)\r\n",
      "Requirement already satisfied: grpcio<2.0,>=1.24.3 in ./venv/lib/python3.10/site-packages (from tensorflow) (1.73.0)\r\n",
      "Requirement already satisfied: tensorboard<2.17,>=2.16 in ./venv/lib/python3.10/site-packages (from tensorflow) (2.16.2)\r\n",
      "Requirement already satisfied: keras>=3.0.0 in ./venv/lib/python3.10/site-packages (from tensorflow) (3.10.0)\r\n",
      "Requirement already satisfied: tensorflow-io-gcs-filesystem>=0.23.1 in ./venv/lib/python3.10/site-packages (from tensorflow) (0.37.1)\r\n",
      "Requirement already satisfied: numpy<2.0.0,>=1.23.5 in ./venv/lib/python3.10/site-packages (from tensorflow) (1.26.4)\r\n",
      "Requirement already satisfied: charset-normalizer<4,>=2 in ./venv/lib/python3.10/site-packages (from requests<3,>=2.21.0->tensorflow) (3.4.1)\r\n",
      "Requirement already satisfied: idna<4,>=2.5 in ./venv/lib/python3.10/site-packages (from requests<3,>=2.21.0->tensorflow) (3.10)\r\n",
      "Requirement already satisfied: urllib3<3,>=1.21.1 in ./venv/lib/python3.10/site-packages (from requests<3,>=2.21.0->tensorflow) (2.4.0)\r\n",
      "Requirement already satisfied: certifi>=2017.4.17 in ./venv/lib/python3.10/site-packages (from requests<3,>=2.21.0->tensorflow) (2025.1.31)\r\n",
      "Requirement already satisfied: markdown>=2.6.8 in ./venv/lib/python3.10/site-packages (from tensorboard<2.17,>=2.16->tensorflow) (3.8.1)\r\n",
      "Requirement already satisfied: tensorboard-data-server<0.8.0,>=0.7.0 in ./venv/lib/python3.10/site-packages (from tensorboard<2.17,>=2.16->tensorflow) (0.7.2)\r\n",
      "Requirement already satisfied: werkzeug>=1.0.1 in ./venv/lib/python3.10/site-packages (from tensorboard<2.17,>=2.16->tensorflow) (3.1.3)\r\n",
      "Requirement already satisfied: wheel<1.0,>=0.23.0 in ./venv/lib/python3.10/site-packages (from astunparse>=1.6.0->tensorflow) (0.41.2)\r\n",
      "Requirement already satisfied: rich in ./venv/lib/python3.10/site-packages (from keras>=3.0.0->tensorflow) (14.0.0)\r\n",
      "Requirement already satisfied: namex in ./venv/lib/python3.10/site-packages (from keras>=3.0.0->tensorflow) (0.1.0)\r\n",
      "Requirement already satisfied: optree in ./venv/lib/python3.10/site-packages (from keras>=3.0.0->tensorflow) (0.16.0)\r\n",
      "Requirement already satisfied: MarkupSafe>=2.1.1 in ./venv/lib/python3.10/site-packages (from werkzeug>=1.0.1->tensorboard<2.17,>=2.16->tensorflow) (3.0.2)\r\n",
      "Requirement already satisfied: markdown-it-py>=2.2.0 in ./venv/lib/python3.10/site-packages (from rich->keras>=3.0.0->tensorflow) (3.0.0)\r\n",
      "Requirement already satisfied: pygments<3.0.0,>=2.13.0 in ./venv/lib/python3.10/site-packages (from rich->keras>=3.0.0->tensorflow) (2.19.1)\r\n",
      "Requirement already satisfied: mdurl~=0.1 in ./venv/lib/python3.10/site-packages (from markdown-it-py>=2.2.0->rich->keras>=3.0.0->tensorflow) (0.1.2)\r\n"
     ]
    }
   ],
   "execution_count": 7
  },
  {
   "metadata": {
    "ExecuteTime": {
     "end_time": "2025-06-21T18:08:36.365850Z",
     "start_time": "2025-06-21T18:08:36.293141Z"
    }
   },
   "cell_type": "code",
   "source": [
    "from tensorflow.keras.models import Model\n",
    "from tensorflow.keras.layers import Input, Embedding, Conv1D, GlobalMaxPooling1D, Dense, Concatenate, Dropout\n",
    "from tensorflow.keras.optimizers import Adam\n",
    "from tensorflow.keras.preprocessing.sequence import pad_sequences\n",
    "from sklearn.metrics import accuracy_score, f1_score, confusion_matrix,  precision_recall_curve\n",
    "from sklearn.preprocessing import StandardScaler\n",
    "import pandas as pd\n",
    "import numpy as np\n",
    "import ast\n"
   ],
   "id": "d5f963906f68e803",
   "outputs": [],
   "execution_count": 7
  },
  {
   "metadata": {
    "ExecuteTime": {
     "end_time": "2025-06-21T18:09:03.492122Z",
     "start_time": "2025-06-21T18:08:37.367252Z"
    }
   },
   "cell_type": "code",
   "source": [
    "# Load preprocessed CSVs\n",
    "train_df = pd.read_csv(\"datasets/security/train_preprocessed.csv\")\n",
    "valid_df = pd.read_csv(\"datasets/security/valid_preprocessed.csv\")\n",
    "test_df = pd.read_csv(\"datasets/security/test_preprocessed.csv\")\n",
    "\n",
    "MAX_LEN = 300\n",
    "\n",
    "def parse_sequence(x): return ast.literal_eval(x)[:MAX_LEN]\n",
    "X_train_seq = pad_sequences(train_df['input_ids'].apply(parse_sequence), maxlen=MAX_LEN)\n",
    "X_valid_seq = pad_sequences(valid_df['input_ids'].apply(parse_sequence), maxlen=MAX_LEN)\n",
    "X_test_seq = pad_sequences(test_df['input_ids'].apply(parse_sequence), maxlen=MAX_LEN)"
   ],
   "id": "f16bd5c39b5f2f72",
   "outputs": [],
   "execution_count": 8
  },
  {
   "metadata": {
    "ExecuteTime": {
     "end_time": "2025-06-21T18:09:03.702121Z",
     "start_time": "2025-06-21T18:09:03.499969Z"
    }
   },
   "cell_type": "code",
   "source": [
    "# Select top 10 tabular features\n",
    "features = [col for col in train_df.columns if col not in ['id', 'project', 'commit_id', 'tokens', 'func', 'input_ids', 'attention_mask', 'target']]\n",
    "from xgboost import XGBClassifier\n",
    "xgb = XGBClassifier(n_estimators=100, max_depth=6, random_state=42)\n",
    "xgb.fit(train_df[features], train_df['target'].astype(int))\n",
    "top_features = pd.Series(xgb.feature_importances_, index=features).sort_values(ascending=False).head(10).index.tolist()\n",
    "\n",
    "X_train_tab = train_df[top_features]\n",
    "X_valid_tab = valid_df[top_features]\n",
    "X_test_tab = test_df[top_features]\n",
    "\n",
    "scaler = StandardScaler()\n",
    "X_train_tab_scaled = scaler.fit_transform(X_train_tab)\n",
    "X_valid_tab_scaled = scaler.transform(X_valid_tab)\n",
    "X_test_tab_scaled = scaler.transform(X_test_tab)\n",
    "\n",
    "y_train = train_df['target'].astype(int)\n",
    "y_valid = valid_df['target'].astype(int)\n",
    "y_test = test_df['target'].astype(int)"
   ],
   "id": "5972d7eb66976066",
   "outputs": [],
   "execution_count": 9
  },
  {
   "metadata": {
    "ExecuteTime": {
     "end_time": "2025-06-21T18:09:03.767660Z",
     "start_time": "2025-06-21T18:09:03.740871Z"
    }
   },
   "cell_type": "code",
   "source": [
    "# Combine train and valid\n",
    "X_seq_comb = np.concatenate([X_train_seq, X_valid_seq])\n",
    "X_tab_comb = np.concatenate([X_train_tab_scaled, X_valid_tab_scaled])\n",
    "y_comb = np.concatenate([y_train, y_valid])"
   ],
   "id": "31c4816f7d57f48a",
   "outputs": [],
   "execution_count": 10
  },
  {
   "metadata": {
    "ExecuteTime": {
     "end_time": "2025-06-21T18:52:47.053867Z",
     "start_time": "2025-06-21T18:09:05.968375Z"
    }
   },
   "cell_type": "code",
   "source": [
    "# CNN + Tabular Model\n",
    "vocab_size = max(np.max(X_seq_comb), np.max(X_test_seq)) + 1\n",
    "\n",
    "embed_dim = 64\n",
    "\n",
    "seq_input = Input(shape=(MAX_LEN,))\n",
    "embed = Embedding(input_dim=vocab_size, output_dim=64)(seq_input)\n",
    "conv1 = Conv1D(256, 3, activation='relu', padding='same')(embed)\n",
    "conv2 = Conv1D(128, 5, activation='relu', padding='same')(conv1)\n",
    "pool = GlobalMaxPooling1D()(conv2)\n",
    "drop_seq = Dropout(0.5)(pool)\n",
    "\n",
    "tab_input = Input(shape=(X_tab_comb.shape[1],))\n",
    "\n",
    "concat = Concatenate()([drop_seq, tab_input])\n",
    "dense = Dense(64, activation='relu')(concat)\n",
    "drop = Dropout(0.4)(dense)\n",
    "output = Dense(1, activation='sigmoid')(drop)\n",
    "\n",
    "model = Model(inputs=[seq_input, tab_input], outputs=output)\n",
    "model.compile(optimizer=Adam(0.0005), loss='binary_crossentropy', metrics=['accuracy'])\n",
    "\n",
    "model.fit([X_seq_comb, X_tab_comb], y_comb,\n",
    "          validation_data=([X_valid_seq, X_valid_tab_scaled], y_valid),\n",
    "          epochs=15,\n",
    "          batch_size=64)"
   ],
   "id": "27c7b378391a62f1",
   "outputs": [
    {
     "name": "stdout",
     "output_type": "stream",
     "text": [
      "Epoch 1/15\n",
      "\u001B[1m385/385\u001B[0m \u001B[32m━━━━━━━━━━━━━━━━━━━━\u001B[0m\u001B[37m\u001B[0m \u001B[1m176s\u001B[0m 452ms/step - accuracy: 0.5310 - loss: 0.6957 - val_accuracy: 0.5835 - val_loss: 0.6582\n",
      "Epoch 2/15\n",
      "\u001B[1m385/385\u001B[0m \u001B[32m━━━━━━━━━━━━━━━━━━━━\u001B[0m\u001B[37m\u001B[0m \u001B[1m170s\u001B[0m 442ms/step - accuracy: 0.5999 - loss: 0.6509 - val_accuracy: 0.8071 - val_loss: 0.4928\n",
      "Epoch 3/15\n",
      "\u001B[1m385/385\u001B[0m \u001B[32m━━━━━━━━━━━━━━━━━━━━\u001B[0m\u001B[37m\u001B[0m \u001B[1m172s\u001B[0m 447ms/step - accuracy: 0.7768 - loss: 0.4671 - val_accuracy: 0.8946 - val_loss: 0.3036\n",
      "Epoch 4/15\n",
      "\u001B[1m385/385\u001B[0m \u001B[32m━━━━━━━━━━━━━━━━━━━━\u001B[0m\u001B[37m\u001B[0m \u001B[1m175s\u001B[0m 455ms/step - accuracy: 0.8700 - loss: 0.2912 - val_accuracy: 0.9312 - val_loss: 0.1972\n",
      "Epoch 5/15\n",
      "\u001B[1m385/385\u001B[0m \u001B[32m━━━━━━━━━━━━━━━━━━━━\u001B[0m\u001B[37m\u001B[0m \u001B[1m180s\u001B[0m 467ms/step - accuracy: 0.9126 - loss: 0.2020 - val_accuracy: 0.9462 - val_loss: 0.1444\n",
      "Epoch 6/15\n",
      "\u001B[1m385/385\u001B[0m \u001B[32m━━━━━━━━━━━━━━━━━━━━\u001B[0m\u001B[37m\u001B[0m \u001B[1m263s\u001B[0m 685ms/step - accuracy: 0.9310 - loss: 0.1518 - val_accuracy: 0.9612 - val_loss: 0.1074\n",
      "Epoch 7/15\n",
      "\u001B[1m385/385\u001B[0m \u001B[32m━━━━━━━━━━━━━━━━━━━━\u001B[0m\u001B[37m\u001B[0m \u001B[1m170s\u001B[0m 441ms/step - accuracy: 0.9426 - loss: 0.1230 - val_accuracy: 0.9568 - val_loss: 0.0910\n",
      "Epoch 8/15\n",
      "\u001B[1m385/385\u001B[0m \u001B[32m━━━━━━━━━━━━━━━━━━━━\u001B[0m\u001B[37m\u001B[0m \u001B[1m164s\u001B[0m 426ms/step - accuracy: 0.9538 - loss: 0.0983 - val_accuracy: 0.9682 - val_loss: 0.0850\n",
      "Epoch 9/15\n",
      "\u001B[1m385/385\u001B[0m \u001B[32m━━━━━━━━━━━━━━━━━━━━\u001B[0m\u001B[37m\u001B[0m \u001B[1m165s\u001B[0m 427ms/step - accuracy: 0.9599 - loss: 0.0831 - val_accuracy: 0.9674 - val_loss: 0.0730\n",
      "Epoch 10/15\n",
      "\u001B[1m385/385\u001B[0m \u001B[32m━━━━━━━━━━━━━━━━━━━━\u001B[0m\u001B[37m\u001B[0m \u001B[1m163s\u001B[0m 424ms/step - accuracy: 0.9642 - loss: 0.0750 - val_accuracy: 0.9718 - val_loss: 0.0614\n",
      "Epoch 11/15\n",
      "\u001B[1m385/385\u001B[0m \u001B[32m━━━━━━━━━━━━━━━━━━━━\u001B[0m\u001B[37m\u001B[0m \u001B[1m164s\u001B[0m 425ms/step - accuracy: 0.9688 - loss: 0.0651 - val_accuracy: 0.9762 - val_loss: 0.0539\n",
      "Epoch 12/15\n",
      "\u001B[1m385/385\u001B[0m \u001B[32m━━━━━━━━━━━━━━━━━━━━\u001B[0m\u001B[37m\u001B[0m \u001B[1m164s\u001B[0m 426ms/step - accuracy: 0.9678 - loss: 0.0653 - val_accuracy: 0.9729 - val_loss: 0.0483\n",
      "Epoch 13/15\n",
      "\u001B[1m385/385\u001B[0m \u001B[32m━━━━━━━━━━━━━━━━━━━━\u001B[0m\u001B[37m\u001B[0m \u001B[1m165s\u001B[0m 428ms/step - accuracy: 0.9712 - loss: 0.0552 - val_accuracy: 0.9769 - val_loss: 0.0451\n",
      "Epoch 14/15\n",
      "\u001B[1m385/385\u001B[0m \u001B[32m━━━━━━━━━━━━━━━━━━━━\u001B[0m\u001B[37m\u001B[0m \u001B[1m165s\u001B[0m 428ms/step - accuracy: 0.9723 - loss: 0.0542 - val_accuracy: 0.9751 - val_loss: 0.0433\n",
      "Epoch 15/15\n",
      "\u001B[1m385/385\u001B[0m \u001B[32m━━━━━━━━━━━━━━━━━━━━\u001B[0m\u001B[37m\u001B[0m \u001B[1m165s\u001B[0m 428ms/step - accuracy: 0.9723 - loss: 0.0543 - val_accuracy: 0.9773 - val_loss: 0.0401\n"
     ]
    },
    {
     "data": {
      "text/plain": [
       "<keras.src.callbacks.history.History at 0x13b025930>"
      ]
     },
     "execution_count": 11,
     "metadata": {},
     "output_type": "execute_result"
    }
   ],
   "execution_count": 11
  },
  {
   "metadata": {
    "ExecuteTime": {
     "end_time": "2025-06-21T18:52:52.475462Z",
     "start_time": "2025-06-21T18:52:50.249855Z"
    }
   },
   "cell_type": "code",
   "source": [
    "y_pred_proba = model.predict([X_test_seq, X_test_tab_scaled])\n",
    "precision, recall, thresholds = precision_recall_curve(y_test, y_pred_proba)\n",
    "f1 = 2 * (precision * recall) / (precision + recall + 1e-8)\n",
    "best_thresh = thresholds[np.argmax(f1)]\n",
    "\n",
    "y_test_pred = (y_pred_proba > best_thresh).astype(int)\n",
    "\n",
    "print(\"Best threshold:\", best_thresh)\n",
    "print(\"Accuracy:\", accuracy_score(y_test, y_test_pred))\n",
    "print(\"F1 Score:\", f1_score(y_test, y_test_pred))\n",
    "print(\"Confusion Matrix:\\n\", confusion_matrix(y_test, y_test_pred))"
   ],
   "id": "53ce0866703a89e8",
   "outputs": [
    {
     "name": "stdout",
     "output_type": "stream",
     "text": [
      "\u001B[1m86/86\u001B[0m \u001B[32m━━━━━━━━━━━━━━━━━━━━\u001B[0m\u001B[37m\u001B[0m \u001B[1m2s\u001B[0m 22ms/step\n",
      "Best threshold: 5.5487316e-08\n",
      "Accuracy: 0.47291361639824303\n",
      "F1 Score: 0.6341463414634146\n",
      "Confusion Matrix:\n",
      " [[  44 1433]\n",
      " [   7 1248]]\n"
     ]
    }
   ],
   "execution_count": 12
  }
 ],
 "metadata": {
  "kernelspec": {
   "display_name": "Python 3",
   "language": "python",
   "name": "python3"
  },
  "language_info": {
   "codemirror_mode": {
    "name": "ipython",
    "version": 2
   },
   "file_extension": ".py",
   "mimetype": "text/x-python",
   "name": "python",
   "nbconvert_exporter": "python",
   "pygments_lexer": "ipython2",
   "version": "2.7.6"
  }
 },
 "nbformat": 4,
 "nbformat_minor": 5
}
