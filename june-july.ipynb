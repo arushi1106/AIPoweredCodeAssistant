{
 "cells": [
  {
   "metadata": {
    "ExecuteTime": {
     "end_time": "2025-05-10T23:04:41.813819Z",
     "start_time": "2025-05-10T23:04:40.607721Z"
    }
   },
   "cell_type": "code",
   "source": [
    "import pandas as pd\n",
    "import ast"
   ],
   "id": "830edce7a9f9f142",
   "outputs": [],
   "execution_count": 1
  },
  {
   "metadata": {
    "ExecuteTime": {
     "end_time": "2025-05-10T23:04:44.198801Z",
     "start_time": "2025-05-10T23:04:42.737953Z"
    }
   },
   "cell_type": "code",
   "source": [
    "# Load CSV with engineered features\n",
    "df = pd.read_csv(\"datasets/security/train_preprocessed.csv\")"
   ],
   "id": "14a20d1fc03420b3",
   "outputs": [],
   "execution_count": 2
  },
  {
   "metadata": {
    "ExecuteTime": {
     "end_time": "2025-05-10T23:05:10.805843Z",
     "start_time": "2025-05-10T23:04:44.635707Z"
    }
   },
   "cell_type": "code",
   "source": [
    "# Convert string lists back to real lists\n",
    "df[\"input_ids\"] = df[\"input_ids\"].apply(ast.literal_eval)\n",
    "df[\"attention_mask\"] = df[\"attention_mask\"].apply(ast.literal_eval)\n",
    "df[\"target\"] = df[\"target\"].astype(int)"
   ],
   "id": "5df6c1cb4dd4f4b6",
   "outputs": [],
   "execution_count": 3
  },
  {
   "metadata": {
    "ExecuteTime": {
     "end_time": "2025-05-10T23:05:13.112199Z",
     "start_time": "2025-05-10T23:05:10.811370Z"
    }
   },
   "cell_type": "code",
   "source": [
    "from sklearn.model_selection import train_test_split\n",
    "\n",
    "train_df, val_df = train_test_split(df, test_size=0.2, stratify=df[\"target\"], random_state=42)"
   ],
   "id": "5b3c9e1089d330e4",
   "outputs": [],
   "execution_count": 4
  },
  {
   "metadata": {
    "ExecuteTime": {
     "end_time": "2025-05-10T23:05:21.607968Z",
     "start_time": "2025-05-10T23:05:21.602462Z"
    }
   },
   "cell_type": "code",
   "source": [
    "import torch\n",
    "from torch.utils.data import Dataset, DataLoader\n",
    "\n",
    "class CodeTokenDataset(Dataset):\n",
    "    def __init__(self, df):\n",
    "        self.inputs = df[\"input_ids\"].tolist()\n",
    "        self.masks = df[\"attention_mask\"].tolist()\n",
    "        self.labels = df[\"target\"].tolist()\n",
    "\n",
    "    def __len__(self):\n",
    "        return len(self.labels)\n",
    "\n",
    "    def __getitem__(self, idx):\n",
    "        return (\n",
    "            torch.tensor(self.inputs[idx], dtype=torch.long),\n",
    "            torch.tensor(self.masks[idx], dtype=torch.long),\n",
    "            torch.tensor(self.labels[idx], dtype=torch.long)\n",
    "        )"
   ],
   "id": "f281027cc67176e9",
   "outputs": [],
   "execution_count": 7
  },
  {
   "metadata": {
    "ExecuteTime": {
     "end_time": "2025-05-10T23:05:22.957363Z",
     "start_time": "2025-05-10T23:05:22.947932Z"
    }
   },
   "cell_type": "code",
   "source": [
    "from torch.nn.utils.rnn import pad_sequence\n",
    "def collate_fn(batch):\n",
    "    input_ids, attention_masks, labels = zip(*batch)\n",
    "\n",
    "    input_ids = [x.clone().detach() if isinstance(x, torch.Tensor) else torch.tensor(x, dtype=torch.long) for x in input_ids]\n",
    "    attention_masks = [x.clone().detach() if isinstance(x, torch.Tensor) else torch.tensor(x, dtype=torch.long) for x in attention_masks]\n",
    "\n",
    "    labels = torch.tensor(labels, dtype=torch.long)\n",
    "\n",
    "    input_ids = pad_sequence(input_ids, batch_first=True, padding_value=0)\n",
    "    attention_masks = pad_sequence(attention_masks, batch_first=True, padding_value=0)\n",
    "\n",
    "    return input_ids, attention_masks, labels"
   ],
   "id": "c2cea9592d9c03c3",
   "outputs": [],
   "execution_count": 8
  },
  {
   "metadata": {
    "ExecuteTime": {
     "end_time": "2025-05-10T23:05:23.871685Z",
     "start_time": "2025-05-10T23:05:23.864165Z"
    }
   },
   "cell_type": "code",
   "source": [
    "train_dataset = CodeTokenDataset(train_df)\n",
    "val_dataset = CodeTokenDataset(val_df)\n",
    "\n",
    "train_loader = DataLoader(train_dataset, batch_size=32, shuffle=True, collate_fn=collate_fn)\n",
    "val_loader = DataLoader(val_dataset, batch_size=32, collate_fn=collate_fn)"
   ],
   "id": "21d3796ff332329a",
   "outputs": [],
   "execution_count": 9
  },
  {
   "metadata": {
    "ExecuteTime": {
     "end_time": "2025-05-10T23:05:24.813042Z",
     "start_time": "2025-05-10T23:05:24.805982Z"
    }
   },
   "cell_type": "code",
   "source": [
    "import torch.nn as nn\n",
    "\n",
    "class LSTMClassifier(nn.Module):\n",
    "    def __init__(self, vocab_size, embed_dim=128, hidden_dim=128, num_classes=2):\n",
    "        super().__init__()\n",
    "        self.embedding = nn.Embedding(vocab_size, embed_dim, padding_idx=0)\n",
    "        self.lstm = nn.LSTM(embed_dim, hidden_dim, batch_first=True, bidirectional=True)\n",
    "        self.dropout = nn.Dropout(0.3)\n",
    "        self.fc = nn.Linear(hidden_dim * 2, num_classes)\n",
    "\n",
    "    def forward(self, input_ids, attention_mask):\n",
    "        embedded = self.embedding(input_ids)\n",
    "        packed_output, (hidden, _) = self.lstm(embedded)\n",
    "        out = torch.cat((hidden[-2,:,:], hidden[-1,:,:]), dim=1)  # bidirectional\n",
    "        return self.fc(self.dropout(out))"
   ],
   "id": "701a8eea894ac2d1",
   "outputs": [],
   "execution_count": 10
  },
  {
   "metadata": {
    "ExecuteTime": {
     "end_time": "2025-05-10T23:05:29.895082Z",
     "start_time": "2025-05-10T23:05:26.471574Z"
    }
   },
   "cell_type": "code",
   "source": [
    "from sklearn.metrics import accuracy_score\n",
    "import torch.optim as optim\n",
    "\n",
    "device = torch.device(\"cuda\" if torch.cuda.is_available() else \"cpu\")\n",
    "\n",
    "# Detect vocab size from max token ID in dataset\n",
    "vocab_size = max(df[\"input_ids\"].explode()) + 1\n",
    "\n",
    "# Initialize model\n",
    "model = LSTMClassifier(vocab_size=vocab_size).to(device)\n",
    "criterion = nn.CrossEntropyLoss()\n",
    "optimizer = optim.Adam(model.parameters(), lr=1e-4)\n"
   ],
   "id": "c562f8695bef0c76",
   "outputs": [],
   "execution_count": 11
  },
  {
   "metadata": {
    "ExecuteTime": {
     "end_time": "2025-05-10T23:05:34.262802Z",
     "start_time": "2025-05-10T23:05:30.883014Z"
    }
   },
   "cell_type": "code",
   "source": "!pip install tqdm",
   "id": "e28e3d1da5b64d98",
   "outputs": [
    {
     "name": "stdout",
     "output_type": "stream",
     "text": [
      "Requirement already satisfied: tqdm in ./venv/lib/python3.10/site-packages (4.67.1)\r\n",
      "\r\n",
      "\u001B[1m[\u001B[0m\u001B[34;49mnotice\u001B[0m\u001B[1;39;49m]\u001B[0m\u001B[39;49m A new release of pip is available: \u001B[0m\u001B[31;49m23.2.1\u001B[0m\u001B[39;49m -> \u001B[0m\u001B[32;49m25.1.1\u001B[0m\r\n",
      "\u001B[1m[\u001B[0m\u001B[34;49mnotice\u001B[0m\u001B[1;39;49m]\u001B[0m\u001B[39;49m To update, run: \u001B[0m\u001B[32;49mpip install --upgrade pip\u001B[0m\r\n"
     ]
    }
   ],
   "execution_count": 12
  },
  {
   "metadata": {
    "jupyter": {
     "is_executing": true
    },
    "ExecuteTime": {
     "start_time": "2025-05-10T23:05:48.632983Z"
    }
   },
   "cell_type": "code",
   "source": [
    "from tqdm import tqdm\n",
    "\n",
    "epochs = 15\n",
    "\n",
    "for epoch in range(epochs):\n",
    "    model.train()\n",
    "    train_loss = 0\n",
    "    correct = 0\n",
    "    total = 0\n",
    "\n",
    "    loop = tqdm(train_loader, desc=f\"Epoch {epoch+1}/{epochs}\")\n",
    "    for input_ids, attention_mask, labels in loop:\n",
    "        input_ids, attention_mask, labels = input_ids.to(device), attention_mask.to(device), labels.to(device)\n",
    "\n",
    "        outputs = model(input_ids, attention_mask)\n",
    "        loss = criterion(outputs, labels)\n",
    "\n",
    "        optimizer.zero_grad()\n",
    "        loss.backward()\n",
    "        optimizer.step()\n",
    "\n",
    "        train_loss += loss.item()\n",
    "\n",
    "        preds = torch.argmax(outputs, dim=1)\n",
    "        correct += (preds == labels).sum().item()\n",
    "        total += labels.size(0)\n",
    "\n",
    "        # Update progress bar\n",
    "        avg_loss = train_loss / len(train_loader)\n",
    "        loop.set_postfix(avg_loss=avg_loss, accuracy=100 * correct / total)\n",
    "\n",
    "\n",
    "    # Validation after each epoch\n",
    "    model.eval()\n",
    "    all_preds, all_labels = [], []\n",
    "    with torch.no_grad():\n",
    "        for input_ids, attention_mask, labels in val_loader:\n",
    "            input_ids, attention_mask = input_ids.to(device), attention_mask.to(device)\n",
    "            outputs = model(input_ids, attention_mask)\n",
    "            preds = torch.argmax(outputs, dim=1).cpu().tolist()\n",
    "            all_preds.extend(preds)\n",
    "            all_labels.extend(labels.tolist())\n",
    "\n",
    "    val_acc = accuracy_score(all_labels, all_preds)\n",
    "    print(f\" Epoch {epoch+1} complete - Train Accuracy: {100 * correct / total:.2f}% - Val Accuracy: {val_acc:.4f}\")\n"
   ],
   "id": "54131665bc34e6e8",
   "outputs": [
    {
     "name": "stderr",
     "output_type": "stream",
     "text": [
      "Epoch 1/15:   1%|          | 6/547 [00:09<14:25,  1.60s/it, accuracy=43.8, avg_loss=0.00769]"
     ]
    }
   ],
   "execution_count": null
  },
  {
   "metadata": {},
   "cell_type": "code",
   "outputs": [],
   "execution_count": null,
   "source": "",
   "id": "3bfbad0a1838ba75"
  }
 ],
 "metadata": {
  "kernelspec": {
   "display_name": "Python 3",
   "language": "python",
   "name": "python3"
  },
  "language_info": {
   "codemirror_mode": {
    "name": "ipython",
    "version": 2
   },
   "file_extension": ".py",
   "mimetype": "text/x-python",
   "name": "python",
   "nbconvert_exporter": "python",
   "pygments_lexer": "ipython2",
   "version": "2.7.6"
  }
 },
 "nbformat": 4,
 "nbformat_minor": 5
}
