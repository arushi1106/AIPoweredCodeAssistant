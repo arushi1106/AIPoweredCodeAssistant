{
 "cells": [
  {
   "metadata": {
    "ExecuteTime": {
     "end_time": "2025-04-23T23:10:02.018677Z",
     "start_time": "2025-04-23T23:10:01.655449Z"
    }
   },
   "cell_type": "code",
   "source": [
    "# 1. Imports and Data Loading\n",
    "import pandas as pd\n",
    "import torch\n",
    "from torch import nn\n",
    "from torch.utils.data import Dataset, DataLoader\n",
    "from torch.nn.utils.rnn import pad_sequence\n",
    "import ast"
   ],
   "id": "830edce7a9f9f142",
   "outputs": [],
   "execution_count": 16
  },
  {
   "metadata": {
    "ExecuteTime": {
     "end_time": "2025-04-23T23:10:25.194837Z",
     "start_time": "2025-04-23T23:10:25.116911Z"
    }
   },
   "cell_type": "code",
   "source": "device = torch.device(\"cuda\" if torch.cuda.is_available() else \"cpu\")",
   "id": "14a20d1fc03420b3",
   "outputs": [],
   "execution_count": 17
  },
  {
   "metadata": {
    "ExecuteTime": {
     "end_time": "2025-04-23T23:11:34.742065Z",
     "start_time": "2025-04-23T23:10:40.089879Z"
    }
   },
   "cell_type": "code",
   "source": [
    "# Load preprocessed datasets\n",
    "train_df = pd.read_csv(\"datasets/security/train_preprocessed.csv\")\n",
    "valid_df = pd.read_csv(\"datasets/security/valid_preprocessed.csv\")\n",
    "test_df = pd.read_csv(\"datasets/security/test_preprocessed.csv\")\n",
    "\n",
    "# Convert stringified lists back to actual lists\n",
    "train_df[\"input_ids\"] = train_df[\"input_ids\"].apply(ast.literal_eval)\n",
    "train_df[\"attention_mask\"] = train_df[\"attention_mask\"].apply(ast.literal_eval)\n",
    "valid_df[\"input_ids\"] = valid_df[\"input_ids\"].apply(ast.literal_eval)\n",
    "valid_df[\"attention_mask\"] = valid_df[\"attention_mask\"].apply(ast.literal_eval)\n",
    "test_df[\"input_ids\"] = test_df[\"input_ids\"].apply(ast.literal_eval)\n",
    "test_df[\"attention_mask\"] = test_df[\"attention_mask\"].apply(ast.literal_eval)"
   ],
   "id": "5df6c1cb4dd4f4b6",
   "outputs": [],
   "execution_count": 18
  },
  {
   "metadata": {
    "ExecuteTime": {
     "end_time": "2025-04-23T23:13:45.707206Z",
     "start_time": "2025-04-23T23:13:45.676485Z"
    }
   },
   "cell_type": "code",
   "source": "print(train_df.columns)",
   "id": "f281027cc67176e9",
   "outputs": [
    {
     "name": "stdout",
     "output_type": "stream",
     "text": [
      "Index(['id', 'func', 'target', 'project', 'commit_id', 'func_length',\n",
      "       'func_aug', 'func_length.1', 'num_loops', 'has_eval', 'has_system',\n",
      "       'num_if', 'num_return', 'uses_pointer', 'uses_buffer', 'input_ids',\n",
      "       'attention_mask'],\n",
      "      dtype='object')\n"
     ]
    }
   ],
   "execution_count": 23
  },
  {
   "metadata": {
    "ExecuteTime": {
     "end_time": "2025-04-23T23:14:31.911117Z",
     "start_time": "2025-04-23T23:14:31.901137Z"
    }
   },
   "cell_type": "code",
   "source": [
    "class EncodedTextDataset(Dataset):\n",
    "    def __init__(self, dataframe):\n",
    "        self.input_ids = dataframe[\"input_ids\"].tolist()\n",
    "        self.attention_masks = dataframe[\"attention_mask\"].tolist()\n",
    "        self.labels = dataframe[\"target\"].tolist()\n",
    "\n",
    "    def __len__(self):\n",
    "        return len(self.labels)\n",
    "\n",
    "    def __getitem__(self, idx):\n",
    "        input_ids = torch.tensor(self.input_ids[idx], dtype=torch.long)\n",
    "        attention_mask = torch.tensor(self.attention_masks[idx], dtype=torch.long)\n",
    "        label = torch.tensor(self.labels[idx], dtype=torch.long)\n",
    "        return input_ids, attention_mask, label"
   ],
   "id": "21d3796ff332329a",
   "outputs": [],
   "execution_count": 25
  },
  {
   "metadata": {
    "ExecuteTime": {
     "end_time": "2025-04-23T23:14:32.599963Z",
     "start_time": "2025-04-23T23:14:32.590505Z"
    }
   },
   "cell_type": "code",
   "source": [
    "def collate_fn(batch):\n",
    "    input_ids, attention_masks, labels = zip(*batch)\n",
    "    input_ids = pad_sequence(input_ids, batch_first=True, padding_value=0)\n",
    "    attention_masks = pad_sequence(attention_masks, batch_first=True, padding_value=0)\n",
    "    labels = torch.stack(labels)\n",
    "    lengths = torch.tensor([len(seq) for seq in input_ids])\n",
    "    return input_ids, attention_masks, labels, lengths"
   ],
   "id": "701a8eea894ac2d1",
   "outputs": [],
   "execution_count": 26
  },
  {
   "metadata": {
    "ExecuteTime": {
     "end_time": "2025-04-23T23:14:33.527653Z",
     "start_time": "2025-04-23T23:14:33.435860Z"
    }
   },
   "cell_type": "code",
   "source": [
    "train_loader = DataLoader(EncodedTextDataset(train_df), batch_size=32, shuffle=True, collate_fn=collate_fn)\n",
    "valid_loader = DataLoader(EncodedTextDataset(valid_df), batch_size=32, shuffle=False, collate_fn=collate_fn)\n",
    "test_loader = DataLoader(EncodedTextDataset(test_df), batch_size=32, shuffle=False, collate_fn=collate_fn)"
   ],
   "id": "ca415f67db645025",
   "outputs": [],
   "execution_count": 27
  },
  {
   "metadata": {
    "ExecuteTime": {
     "end_time": "2025-04-23T23:14:34.815198Z",
     "start_time": "2025-04-23T23:14:34.781889Z"
    }
   },
   "cell_type": "code",
   "source": [
    "# 3. LSTM Model Definition\n",
    "class LSTMClassifier(nn.Module):\n",
    "    def __init__(self, vocab_size, embed_dim, hidden_dim, output_dim):\n",
    "        super(LSTMClassifier, self).__init__()\n",
    "        self.embedding = nn.Embedding(vocab_size, embed_dim, padding_idx=0)\n",
    "        self.lstm = nn.LSTM(embed_dim, hidden_dim, batch_first=True)\n",
    "        self.fc = nn.Linear(hidden_dim, output_dim)\n",
    "\n",
    "    def forward(self, input_ids, lengths):\n",
    "        embedded = self.embedding(input_ids)\n",
    "        packed = nn.utils.rnn.pack_padded_sequence(embedded, lengths.cpu(), batch_first=True, enforce_sorted=False)\n",
    "        _, (hidden, _) = self.lstm(packed)\n",
    "        return self.fc(hidden[-1])"
   ],
   "id": "55581f1c444d055",
   "outputs": [],
   "execution_count": 28
  },
  {
   "metadata": {
    "ExecuteTime": {
     "end_time": "2025-04-23T23:24:32.738418Z",
     "start_time": "2025-04-23T23:24:28.552289Z"
    }
   },
   "cell_type": "code",
   "source": "!pip install tqdm",
   "id": "fe80fea63ba22579",
   "outputs": [
    {
     "name": "stderr",
     "output_type": "stream",
     "text": [
      "Python(3729) MallocStackLogging: can't turn off malloc stack logging because it was not enabled.\n"
     ]
    },
    {
     "name": "stdout",
     "output_type": "stream",
     "text": [
      "Requirement already satisfied: tqdm in ./venv/lib/python3.10/site-packages (4.67.1)\r\n",
      "\r\n",
      "\u001B[1m[\u001B[0m\u001B[34;49mnotice\u001B[0m\u001B[1;39;49m]\u001B[0m\u001B[39;49m A new release of pip is available: \u001B[0m\u001B[31;49m23.2.1\u001B[0m\u001B[39;49m -> \u001B[0m\u001B[32;49m25.0.1\u001B[0m\r\n",
      "\u001B[1m[\u001B[0m\u001B[34;49mnotice\u001B[0m\u001B[1;39;49m]\u001B[0m\u001B[39;49m To update, run: \u001B[0m\u001B[32;49mpip install --upgrade pip\u001B[0m\r\n"
     ]
    }
   ],
   "execution_count": 34
  },
  {
   "metadata": {
    "ExecuteTime": {
     "end_time": "2025-04-23T23:24:46.611480Z",
     "start_time": "2025-04-23T23:24:46.590734Z"
    }
   },
   "cell_type": "code",
   "source": [
    "from tqdm import tqdm\n",
    "\n",
    "def train(model, train_loader, valid_loader, criterion, optimizer, epochs=5):\n",
    "    for epoch in range(epochs):\n",
    "        print(f\"\\nStarting Epoch {epoch + 1}/{epochs}\")\n",
    "        model.train()\n",
    "        total_loss = 0\n",
    "\n",
    "        for input_ids, _, labels, lengths in tqdm(train_loader, desc=f\"Epoch {epoch+1}\"):\n",
    "            input_ids, labels, lengths = input_ids.to(device), labels.to(device), lengths.to(device)\n",
    "\n",
    "            optimizer.zero_grad()\n",
    "            outputs = model(input_ids, lengths)\n",
    "            loss = criterion(outputs, labels)\n",
    "            loss.backward()\n",
    "            optimizer.step()\n",
    "            total_loss += loss.item()\n",
    "\n",
    "        print(f\" Epoch {epoch+1} | Train Loss: {total_loss / len(train_loader):.4f}\")\n",
    "        evaluate(model, valid_loader, label=\"Validation\")\n"
   ],
   "id": "a3e0edfca599240a",
   "outputs": [],
   "execution_count": 35
  },
  {
   "metadata": {
    "ExecuteTime": {
     "end_time": "2025-04-23T23:24:47.863714Z",
     "start_time": "2025-04-23T23:24:47.852033Z"
    }
   },
   "cell_type": "code",
   "source": [
    "def evaluate(model, loader, label=\"Test\"):\n",
    "    model.eval()\n",
    "    correct, total = 0, 0\n",
    "    with torch.no_grad():\n",
    "        for input_ids, _, labels, lengths in loader:\n",
    "            input_ids, labels, lengths = input_ids.to(device), labels.to(device), lengths.to(device)\n",
    "            outputs = model(input_ids, lengths)\n",
    "            preds = torch.argmax(outputs, dim=1)\n",
    "            correct += (preds == labels).sum().item()\n",
    "            total += labels.size(0)\n",
    "    print(f\"{label} Accuracy: {100 * correct / total:.2f}%\")"
   ],
   "id": "da6fa1b80064e50c",
   "outputs": [],
   "execution_count": 36
  },
  {
   "metadata": {
    "ExecuteTime": {
     "end_time": "2025-04-23T23:24:53.617239Z",
     "start_time": "2025-04-23T23:24:53.489296Z"
    }
   },
   "cell_type": "code",
   "source": [
    "all_lengths = [len(seq) for seq in train_df[\"input_ids\"]]\n",
    "print(f\"Max length: {max(all_lengths)} | Avg length: {sum(all_lengths)/len(all_lengths):.2f}\")"
   ],
   "id": "a57fe67e0d47ea4a",
   "outputs": [
    {
     "name": "stdout",
     "output_type": "stream",
     "text": [
      "Max length: 512 | Avg length: 367.48\n"
     ]
    }
   ],
   "execution_count": 37
  },
  {
   "metadata": {
    "ExecuteTime": {
     "end_time": "2025-04-23T23:27:07.727242Z",
     "start_time": "2025-04-23T23:25:21.194314Z"
    }
   },
   "cell_type": "code",
   "source": [
    "# 5. Training Execution\n",
    "vocab_size = max(max(seq) for seq in train_df[\"input_ids\"]) + 1\n",
    "embed_dim = 100\n",
    "hidden_dim = 128\n",
    "output_dim = len(set(train_df[\"target\"]))\n",
    "\n",
    "model = LSTMClassifier(vocab_size, embed_dim, hidden_dim, output_dim).to(device)\n",
    "criterion = nn.CrossEntropyLoss()\n",
    "optimizer = torch.optim.Adam(model.parameters(), lr=1e-3)\n",
    "\n",
    "train(model, train_loader, valid_loader, criterion, optimizer, epochs=5)"
   ],
   "id": "36f0162493c81e9a",
   "outputs": [
    {
     "name": "stdout",
     "output_type": "stream",
     "text": [
      "\n",
      "Starting Epoch 1/5\n"
     ]
    },
    {
     "name": "stderr",
     "output_type": "stream",
     "text": [
      "Epoch 1:   3%|▎         | 23/683 [01:45<50:22,  4.58s/it]\n"
     ]
    },
    {
     "ename": "KeyboardInterrupt",
     "evalue": "",
     "output_type": "error",
     "traceback": [
      "\u001B[0;31m---------------------------------------------------------------------------\u001B[0m",
      "\u001B[0;31mKeyboardInterrupt\u001B[0m                         Traceback (most recent call last)",
      "Cell \u001B[0;32mIn[38], line 11\u001B[0m\n\u001B[1;32m      8\u001B[0m criterion \u001B[38;5;241m=\u001B[39m nn\u001B[38;5;241m.\u001B[39mCrossEntropyLoss()\n\u001B[1;32m      9\u001B[0m optimizer \u001B[38;5;241m=\u001B[39m torch\u001B[38;5;241m.\u001B[39moptim\u001B[38;5;241m.\u001B[39mAdam(model\u001B[38;5;241m.\u001B[39mparameters(), lr\u001B[38;5;241m=\u001B[39m\u001B[38;5;241m1e-3\u001B[39m)\n\u001B[0;32m---> 11\u001B[0m \u001B[43mtrain\u001B[49m\u001B[43m(\u001B[49m\u001B[43mmodel\u001B[49m\u001B[43m,\u001B[49m\u001B[43m \u001B[49m\u001B[43mtrain_loader\u001B[49m\u001B[43m,\u001B[49m\u001B[43m \u001B[49m\u001B[43mvalid_loader\u001B[49m\u001B[43m,\u001B[49m\u001B[43m \u001B[49m\u001B[43mcriterion\u001B[49m\u001B[43m,\u001B[49m\u001B[43m \u001B[49m\u001B[43moptimizer\u001B[49m\u001B[43m,\u001B[49m\u001B[43m \u001B[49m\u001B[43mepochs\u001B[49m\u001B[38;5;241;43m=\u001B[39;49m\u001B[38;5;241;43m5\u001B[39;49m\u001B[43m)\u001B[49m\n",
      "Cell \u001B[0;32mIn[35], line 15\u001B[0m, in \u001B[0;36mtrain\u001B[0;34m(model, train_loader, valid_loader, criterion, optimizer, epochs)\u001B[0m\n\u001B[1;32m     13\u001B[0m outputs \u001B[38;5;241m=\u001B[39m model(input_ids, lengths)\n\u001B[1;32m     14\u001B[0m loss \u001B[38;5;241m=\u001B[39m criterion(outputs, labels)\n\u001B[0;32m---> 15\u001B[0m \u001B[43mloss\u001B[49m\u001B[38;5;241;43m.\u001B[39;49m\u001B[43mbackward\u001B[49m\u001B[43m(\u001B[49m\u001B[43m)\u001B[49m\n\u001B[1;32m     16\u001B[0m optimizer\u001B[38;5;241m.\u001B[39mstep()\n\u001B[1;32m     17\u001B[0m total_loss \u001B[38;5;241m+\u001B[39m\u001B[38;5;241m=\u001B[39m loss\u001B[38;5;241m.\u001B[39mitem()\n",
      "File \u001B[0;32m~/PycharmProjects/AIPoweredCodeAssistant/venv/lib/python3.10/site-packages/torch/_tensor.py:522\u001B[0m, in \u001B[0;36mTensor.backward\u001B[0;34m(self, gradient, retain_graph, create_graph, inputs)\u001B[0m\n\u001B[1;32m    512\u001B[0m \u001B[38;5;28;01mif\u001B[39;00m has_torch_function_unary(\u001B[38;5;28mself\u001B[39m):\n\u001B[1;32m    513\u001B[0m     \u001B[38;5;28;01mreturn\u001B[39;00m handle_torch_function(\n\u001B[1;32m    514\u001B[0m         Tensor\u001B[38;5;241m.\u001B[39mbackward,\n\u001B[1;32m    515\u001B[0m         (\u001B[38;5;28mself\u001B[39m,),\n\u001B[0;32m   (...)\u001B[0m\n\u001B[1;32m    520\u001B[0m         inputs\u001B[38;5;241m=\u001B[39minputs,\n\u001B[1;32m    521\u001B[0m     )\n\u001B[0;32m--> 522\u001B[0m \u001B[43mtorch\u001B[49m\u001B[38;5;241;43m.\u001B[39;49m\u001B[43mautograd\u001B[49m\u001B[38;5;241;43m.\u001B[39;49m\u001B[43mbackward\u001B[49m\u001B[43m(\u001B[49m\n\u001B[1;32m    523\u001B[0m \u001B[43m    \u001B[49m\u001B[38;5;28;43mself\u001B[39;49m\u001B[43m,\u001B[49m\u001B[43m \u001B[49m\u001B[43mgradient\u001B[49m\u001B[43m,\u001B[49m\u001B[43m \u001B[49m\u001B[43mretain_graph\u001B[49m\u001B[43m,\u001B[49m\u001B[43m \u001B[49m\u001B[43mcreate_graph\u001B[49m\u001B[43m,\u001B[49m\u001B[43m \u001B[49m\u001B[43minputs\u001B[49m\u001B[38;5;241;43m=\u001B[39;49m\u001B[43minputs\u001B[49m\n\u001B[1;32m    524\u001B[0m \u001B[43m\u001B[49m\u001B[43m)\u001B[49m\n",
      "File \u001B[0;32m~/PycharmProjects/AIPoweredCodeAssistant/venv/lib/python3.10/site-packages/torch/autograd/__init__.py:266\u001B[0m, in \u001B[0;36mbackward\u001B[0;34m(tensors, grad_tensors, retain_graph, create_graph, grad_variables, inputs)\u001B[0m\n\u001B[1;32m    261\u001B[0m     retain_graph \u001B[38;5;241m=\u001B[39m create_graph\n\u001B[1;32m    263\u001B[0m \u001B[38;5;66;03m# The reason we repeat the same comment below is that\u001B[39;00m\n\u001B[1;32m    264\u001B[0m \u001B[38;5;66;03m# some Python versions print out the first line of a multi-line function\u001B[39;00m\n\u001B[1;32m    265\u001B[0m \u001B[38;5;66;03m# calls in the traceback and some print out the last line\u001B[39;00m\n\u001B[0;32m--> 266\u001B[0m \u001B[43mVariable\u001B[49m\u001B[38;5;241;43m.\u001B[39;49m\u001B[43m_execution_engine\u001B[49m\u001B[38;5;241;43m.\u001B[39;49m\u001B[43mrun_backward\u001B[49m\u001B[43m(\u001B[49m\u001B[43m  \u001B[49m\u001B[38;5;66;43;03m# Calls into the C++ engine to run the backward pass\u001B[39;49;00m\n\u001B[1;32m    267\u001B[0m \u001B[43m    \u001B[49m\u001B[43mtensors\u001B[49m\u001B[43m,\u001B[49m\n\u001B[1;32m    268\u001B[0m \u001B[43m    \u001B[49m\u001B[43mgrad_tensors_\u001B[49m\u001B[43m,\u001B[49m\n\u001B[1;32m    269\u001B[0m \u001B[43m    \u001B[49m\u001B[43mretain_graph\u001B[49m\u001B[43m,\u001B[49m\n\u001B[1;32m    270\u001B[0m \u001B[43m    \u001B[49m\u001B[43mcreate_graph\u001B[49m\u001B[43m,\u001B[49m\n\u001B[1;32m    271\u001B[0m \u001B[43m    \u001B[49m\u001B[43minputs\u001B[49m\u001B[43m,\u001B[49m\n\u001B[1;32m    272\u001B[0m \u001B[43m    \u001B[49m\u001B[43mallow_unreachable\u001B[49m\u001B[38;5;241;43m=\u001B[39;49m\u001B[38;5;28;43;01mTrue\u001B[39;49;00m\u001B[43m,\u001B[49m\n\u001B[1;32m    273\u001B[0m \u001B[43m    \u001B[49m\u001B[43maccumulate_grad\u001B[49m\u001B[38;5;241;43m=\u001B[39;49m\u001B[38;5;28;43;01mTrue\u001B[39;49;00m\u001B[43m,\u001B[49m\n\u001B[1;32m    274\u001B[0m \u001B[43m\u001B[49m\u001B[43m)\u001B[49m\n",
      "\u001B[0;31mKeyboardInterrupt\u001B[0m: "
     ]
    }
   ],
   "execution_count": 38
  },
  {
   "metadata": {},
   "cell_type": "code",
   "outputs": [],
   "execution_count": null,
   "source": [
    "# 6. Final Evaluation on Test Set\n",
    "evaluate(model, test_loader, label=\"Test\")"
   ],
   "id": "43c9ce1e750a379a"
  }
 ],
 "metadata": {
  "kernelspec": {
   "display_name": "Python 3",
   "language": "python",
   "name": "python3"
  },
  "language_info": {
   "codemirror_mode": {
    "name": "ipython",
    "version": 2
   },
   "file_extension": ".py",
   "mimetype": "text/x-python",
   "name": "python",
   "nbconvert_exporter": "python",
   "pygments_lexer": "ipython2",
   "version": "2.7.6"
  }
 },
 "nbformat": 4,
 "nbformat_minor": 5
}
