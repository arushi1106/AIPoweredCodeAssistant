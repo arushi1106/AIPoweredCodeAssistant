{
 "cells": [
  {
   "cell_type": "code",
   "id": "initial_id",
   "metadata": {
    "collapsed": true,
    "ExecuteTime": {
     "end_time": "2025-07-23T20:11:09.658403Z",
     "start_time": "2025-07-23T20:11:07.168462Z"
    }
   },
   "source": "!pip install requests pandas scikit-learn tiktoken python-dotenv\n",
   "outputs": [
    {
     "name": "stdout",
     "output_type": "stream",
     "text": [
      "Requirement already satisfied: requests in ./venv/lib/python3.10/site-packages (2.32.3)\r\n",
      "Requirement already satisfied: pandas in ./venv/lib/python3.10/site-packages (2.2.3)\r\n",
      "Requirement already satisfied: scikit-learn in ./venv/lib/python3.10/site-packages (1.6.1)\r\n",
      "Requirement already satisfied: tiktoken in ./venv/lib/python3.10/site-packages (0.9.0)\r\n",
      "Requirement already satisfied: python-dotenv in ./venv/lib/python3.10/site-packages (1.1.1)\r\n",
      "Requirement already satisfied: charset-normalizer<4,>=2 in ./venv/lib/python3.10/site-packages (from requests) (3.4.1)\r\n",
      "Requirement already satisfied: idna<4,>=2.5 in ./venv/lib/python3.10/site-packages (from requests) (3.10)\r\n",
      "Requirement already satisfied: urllib3<3,>=1.21.1 in ./venv/lib/python3.10/site-packages (from requests) (2.4.0)\r\n",
      "Requirement already satisfied: certifi>=2017.4.17 in ./venv/lib/python3.10/site-packages (from requests) (2025.1.31)\r\n",
      "Requirement already satisfied: numpy>=1.22.4 in ./venv/lib/python3.10/site-packages (from pandas) (1.26.4)\r\n",
      "Requirement already satisfied: python-dateutil>=2.8.2 in ./venv/lib/python3.10/site-packages (from pandas) (2.9.0.post0)\r\n",
      "Requirement already satisfied: pytz>=2020.1 in ./venv/lib/python3.10/site-packages (from pandas) (2025.2)\r\n",
      "Requirement already satisfied: tzdata>=2022.7 in ./venv/lib/python3.10/site-packages (from pandas) (2025.2)\r\n",
      "Requirement already satisfied: scipy>=1.6.0 in ./venv/lib/python3.10/site-packages (from scikit-learn) (1.15.2)\r\n",
      "Requirement already satisfied: joblib>=1.2.0 in ./venv/lib/python3.10/site-packages (from scikit-learn) (1.4.2)\r\n",
      "Requirement already satisfied: threadpoolctl>=3.1.0 in ./venv/lib/python3.10/site-packages (from scikit-learn) (3.6.0)\r\n",
      "Requirement already satisfied: regex>=2022.1.18 in ./venv/lib/python3.10/site-packages (from tiktoken) (2024.11.6)\r\n",
      "Requirement already satisfied: six>=1.5 in ./venv/lib/python3.10/site-packages (from python-dateutil>=2.8.2->pandas) (1.17.0)\r\n"
     ]
    }
   ],
   "execution_count": 1
  },
  {
   "metadata": {
    "ExecuteTime": {
     "end_time": "2025-07-23T20:11:12.999823Z",
     "start_time": "2025-07-23T20:11:09.676110Z"
    }
   },
   "cell_type": "code",
   "source": [
    "import os\n",
    "import pandas as pd\n",
    "import time\n",
    "import tiktoken\n",
    "from sklearn.metrics import classification_report\n",
    "from huggingface_hub import InferenceClient\n",
    "\n",
    "# Load your HF token from the environment (or .env)\n",
    "os.environ[\"HF_TOKEN\"] = \"token\"\n",
    "HF_TOKEN = os.environ[\"HF_TOKEN\"]\n",
    "\n",
    "# Create an InferenceClient using the Cerebras provider\n",
    "client = InferenceClient(\n",
    "    provider=\"cerebras\",\n",
    "    api_key=HF_TOKEN\n",
    ")\n",
    "\n",
    "# Model ID remains the same\n",
    "MODEL_ID = \"meta-llama/Llama-3.3-70B-Instruct\"\n",
    "client = InferenceClient(\n",
    "    provider=\"cerebras\",\n",
    "    model=MODEL_ID,\n",
    "    api_key=HF_TOKEN\n",
    ")\n",
    "\n",
    "print(\"InferenceClient ready for model:\", MODEL_ID)\n"
   ],
   "id": "502258ac495a6f4b",
   "outputs": [
    {
     "name": "stdout",
     "output_type": "stream",
     "text": [
      "InferenceClient ready for model: meta-llama/Llama-3.3-70B-Instruct\n"
     ]
    }
   ],
   "execution_count": 2
  },
  {
   "metadata": {
    "ExecuteTime": {
     "end_time": "2025-07-23T20:11:13.388644Z",
     "start_time": "2025-07-23T20:11:13.225778Z"
    }
   },
   "cell_type": "code",
   "source": [
    "# ─── Cell 3 ───\n",
    "# Load the preprocessed test CSV\n",
    "test_df = pd.read_csv(\"/Users/arushijain/PycharmProjects/AIPoweredCodeAssistant/datasets/security/test_preprocessed.csv\")\n",
    "\n",
    "# Quick sanity checks\n",
    "print(f\"✅ Loaded test_df: {test_df.shape[0]} rows × {test_df.shape[1]} columns\")\n",
    "print(\"Columns:\", test_df.columns.tolist())\n",
    "\n",
    "# Show the first func snippet (truncated) to verify it loaded correctly\n",
    "sample_code = test_df.loc[0, 'func']\n",
    "print(\"\\nSample ‘func’ snippet (first 200 chars):\\n\", sample_code[:200].replace('\\n', ' '))\n"
   ],
   "id": "c5c68daed50790cd",
   "outputs": [
    {
     "name": "stdout",
     "output_type": "stream",
     "text": [
      "✅ Loaded test_df: 2732 rows × 17 columns\n",
      "Columns: ['id', 'func', 'target', 'project', 'commit_id', 'tokens', 'input_ids', 'attention_mask', 'func_length', 'num_loops', 'has_eval', 'has_system', 'num_if', 'num_return', 'uses_pointer', 'uses_buffer', 'is_short_func']\n",
      "\n",
      "Sample ‘func’ snippet (first 200 chars):\n",
      " int ff_get_wav_header(AVFormatContext *s, AVIOContext *pb,                        AVCodecContext *codec, int size, int big_endian)  {      int id;      uint64_t bitrate;        if (size < 14) {       \n"
     ]
    }
   ],
   "execution_count": 3
  },
  {
   "metadata": {
    "ExecuteTime": {
     "end_time": "2025-07-23T20:11:14.409903Z",
     "start_time": "2025-07-23T20:11:13.402548Z"
    }
   },
   "cell_type": "code",
   "source": [
    "import json\n",
    "\n",
    "for idx in [0, 1]:\n",
    "    code = test_df.loc[idx, 'func']\n",
    "    print(f\"\\n=== DEBUG SAMPLE {idx} ===\\n\")\n",
    "\n",
    "    # Truncated code preview\n",
    "    preview = code[:200].replace('\\n', ' ')\n",
    "    print(\"Code snippet (first 200 chars):\", preview, \"...\\n\")\n",
    "\n",
    "    # Build chat messages in HF chat format\n",
    "    messages = [\n",
    "        {\"role\": \"system\", \"content\": \"You are a cybersecurity expert. Only reply with Yes or No.\"},\n",
    "        {\"role\": \"user\",   \"content\": f\"Is the following C code vulnerable? Reply with Yes or No only:\\n{code}\"}\n",
    "    ]\n",
    "\n",
    "    print(\"Messages payload:\")\n",
    "    print(json.dumps(messages, indent=2), \"\\n\")\n",
    "\n",
    "    # Send via InferenceClient\n",
    "    resp = client.chat.completions.create(\n",
    "        model=MODEL_ID,\n",
    "        messages=messages,\n",
    "        max_tokens=10,\n",
    "        temperature=0.0,\n",
    "    )\n",
    "\n",
    "    # Inspect the raw response\n",
    "    print(\"Raw response object:\", resp, \"\\n\")\n",
    "\n",
    "    # Extract the generated text\n",
    "    generated = resp.choices[0].message.content\n",
    "    print(\"Generated text:\", repr(generated), \"\\n\")\n"
   ],
   "id": "c4591fbb3657b66e",
   "outputs": [
    {
     "name": "stdout",
     "output_type": "stream",
     "text": [
      "\n",
      "=== DEBUG SAMPLE 0 ===\n",
      "\n",
      "Code snippet (first 200 chars): int ff_get_wav_header(AVFormatContext *s, AVIOContext *pb,                        AVCodecContext *codec, int size, int big_endian)  {      int id;      uint64_t bitrate;        if (size < 14) {        ...\n",
      "\n",
      "Messages payload:\n",
      "[\n",
      "  {\n",
      "    \"role\": \"system\",\n",
      "    \"content\": \"You are a cybersecurity expert. Only reply with Yes or No.\"\n",
      "  },\n",
      "  {\n",
      "    \"role\": \"user\",\n",
      "    \"content\": \"Is the following C code vulnerable? Reply with Yes or No only:\\nint ff_get_wav_header(AVFormatContext *s, AVIOContext *pb,\\n\\n                      AVCodecContext *codec, int size, int big_endian)\\n\\n{\\n\\n    int id;\\n\\n    uint64_t bitrate;\\n\\n\\n\\n    if (size < 14) {\\n\\n        avpriv_request_sample(codec, \\\"wav header size < 14\\\");\\n\\n        return AVERROR_INVALIDDATA;\\n\\n    }\\n\\n\\n\\n    codec->codec_type  = AVMEDIA_TYPE_AUDIO;\\n\\n    if (!big_endian) {\\n\\n        id                 = avio_rl16(pb);\\n\\n        if (id != 0x0165) {\\n\\n            codec->channels    = avio_rl16(pb);\\n\\n            codec->sample_rate = avio_rl32(pb);\\n\\n            bitrate            = avio_rl32(pb) * 8LL;\\n\\n            codec->block_align = avio_rl16(pb);\\n\\n        }\\n\\n    } else {\\n\\n        id                 = avio_rb16(pb);\\n\\n        codec->channels    = avio_rb16(pb);\\n\\n        codec->sample_rate = avio_rb32(pb);\\n\\n        bitrate            = avio_rb32(pb) * 8LL;\\n\\n        codec->block_align = avio_rb16(pb);\\n\\n    }\\n\\n    if (size == 14) {  /* We're dealing with plain vanilla WAVEFORMAT */\\n\\n        codec->bits_per_coded_sample = 8;\\n\\n    } else {\\n\\n        if (!big_endian) {\\n\\n            codec->bits_per_coded_sample = avio_rl16(pb);\\n\\n        } else {\\n\\n            codec->bits_per_coded_sample = avio_rb16(pb);\\n\\n        }\\n\\n    }\\n\\n    if (id == 0xFFFE) {\\n\\n        codec->codec_tag = 0;\\n\\n    } else {\\n\\n        codec->codec_tag = id;\\n\\n        codec->codec_id  = ff_wav_codec_get_id(id,\\n\\n                                               codec->bits_per_coded_sample);\\n\\n    }\\n\\n    if (size >= 18 && id != 0x0165) {  /* We're obviously dealing with WAVEFORMATEX */\\n\\n        int cbSize = avio_rl16(pb); /* cbSize */\\n\\n        if (big_endian) {\\n\\n            avpriv_report_missing_feature(codec, \\\"WAVEFORMATEX support for RIFX files\\\\n\\\");\\n\\n            return AVERROR_PATCHWELCOME;\\n\\n        }\\n\\n        size  -= 18;\\n\\n        cbSize = FFMIN(size, cbSize);\\n\\n        if (cbSize >= 22 && id == 0xfffe) { /* WAVEFORMATEXTENSIBLE */\\n\\n            parse_waveformatex(pb, codec);\\n\\n            cbSize -= 22;\\n\\n            size   -= 22;\\n\\n        }\\n\\n        if (cbSize > 0) {\\n\\n            av_freep(&codec->extradata);\\n\\n            if (ff_get_extradata(codec, pb, cbSize) < 0)\\n\\n                return AVERROR(ENOMEM);\\n\\n            size -= cbSize;\\n\\n        }\\n\\n\\n\\n        /* It is possible for the chunk to contain garbage at the end */\\n\\n        if (size > 0)\\n\\n            avio_skip(pb, size);\\n\\n    } else if (id == 0x0165 && size >= 32) {\\n\\n        int nb_streams, i;\\n\\n\\n\\n        size -= 4;\\n\\n        av_freep(&codec->extradata);\\n\\n        if (ff_get_extradata(codec, pb, size) < 0)\\n\\n            return AVERROR(ENOMEM);\\n\\n        nb_streams         = AV_RL16(codec->extradata + 4);\\n\\n        codec->sample_rate = AV_RL32(codec->extradata + 12);\\n\\n        codec->channels    = 0;\\n\\n        bitrate            = 0;\\n\\n        if (size < 8 + nb_streams * 20)\\n\\n            return AVERROR_INVALIDDATA;\\n\\n        for (i = 0; i < nb_streams; i++)\\n\\n            codec->channels += codec->extradata[8 + i * 20 + 17];\\n\\n    }\\n\\n\\n\\n    if (bitrate > INT_MAX) {\\n\\n        if (s->error_recognition & AV_EF_EXPLODE) {\\n\\n            av_log(s, AV_LOG_ERROR,\\n\\n                   \\\"The bitrate %\\\"PRIu64\\\" is too large.\\\\n\\\",\\n\\n                    bitrate);\\n\\n            return AVERROR_INVALIDDATA;\\n\\n        } else {\\n\\n            av_log(s, AV_LOG_WARNING,\\n\\n                   \\\"The bitrate %\\\"PRIu64\\\" is too large, resetting to 0.\\\",\\n\\n                   bitrate);\\n\\n            codec->bit_rate = 0;\\n\\n        }\\n\\n    } else {\\n\\n        codec->bit_rate = bitrate;\\n\\n    }\\n\\n\\n\\n    if (codec->sample_rate <= 0) {\\n\\n        av_log(s, AV_LOG_ERROR,\\n\\n               \\\"Invalid sample rate: %d\\\\n\\\", codec->sample_rate);\\n\\n        return AVERROR_INVALIDDATA;\\n\\n    }\\n\\n    if (codec->codec_id == AV_CODEC_ID_AAC_LATM) {\\n\\n        /* Channels and sample_rate values are those prior to applying SBR\\n\\n         * and/or PS. */\\n\\n        codec->channels    = 0;\\n\\n        codec->sample_rate = 0;\\n\\n    }\\n\\n    /* override bits_per_coded_sample for G.726 */\\n\\n    if (codec->codec_id == AV_CODEC_ID_ADPCM_G726 && codec->sample_rate)\\n\\n        codec->bits_per_coded_sample = codec->bit_rate / codec->sample_rate;\\n\\n\\n\\n    return 0;\\n\\n}\\n\"\n",
      "  }\n",
      "] \n",
      "\n",
      "Raw response object: ChatCompletionOutput(choices=[ChatCompletionOutputComplete(finish_reason='stop', index=0, message=ChatCompletionOutputMessage(role='assistant', content='Yes', tool_call_id=None, tool_calls=None), logprobs=None)], created=1753301473, id='chatcmpl-b0aece59-05f6-4b68-8949-00beb508ee43', model='llama-3.3-70b', system_fingerprint='fp_d9197bd9bfb96c41ef64', usage=ChatCompletionOutputUsage(completion_tokens=2, prompt_tokens=1140, total_tokens=1142, prompt_tokens_details={'cached_tokens': 0}), object='chat.completion', time_info={'queue_time': 0.00105336, 'prompt_time': 0.027733743, 'completion_time': 5.234e-05, 'total_time': 0.030503511428833008, 'created': 1753301473}) \n",
      "\n",
      "Generated text: 'Yes' \n",
      "\n",
      "\n",
      "=== DEBUG SAMPLE 1 ===\n",
      "\n",
      "Code snippet (first 200 chars): static int xen_9pfs_connect(struct XenDevice *xendev)  {      int i;      Xen9pfsDev *xen_9pdev = container_of(xendev, Xen9pfsDev, xendev);      V9fsState *s = &xen_9pdev->state;      QemuOpts *fsdev; ...\n",
      "\n",
      "Messages payload:\n",
      "[\n",
      "  {\n",
      "    \"role\": \"system\",\n",
      "    \"content\": \"You are a cybersecurity expert. Only reply with Yes or No.\"\n",
      "  },\n",
      "  {\n",
      "    \"role\": \"user\",\n",
      "    \"content\": \"Is the following C code vulnerable? Reply with Yes or No only:\\nstatic int xen_9pfs_connect(struct XenDevice *xendev)\\n\\n{\\n\\n    int i;\\n\\n    Xen9pfsDev *xen_9pdev = container_of(xendev, Xen9pfsDev, xendev);\\n\\n    V9fsState *s = &xen_9pdev->state;\\n\\n    QemuOpts *fsdev;\\n\\n\\n\\n    if (xenstore_read_fe_int(&xen_9pdev->xendev, \\\"num-rings\\\",\\n\\n                             &xen_9pdev->num_rings) == -1 ||\\n\\n        xen_9pdev->num_rings > MAX_RINGS || xen_9pdev->num_rings < 1) {\\n\\n        return -1;\\n\\n    }\\n\\n\\n\\n    xen_9pdev->rings = g_malloc0(xen_9pdev->num_rings * sizeof(Xen9pfsRing));\\n\\n    for (i = 0; i < xen_9pdev->num_rings; i++) {\\n\\n        char *str;\\n\\n        int ring_order;\\n\\n\\n\\n        xen_9pdev->rings[i].priv = xen_9pdev;\\n\\n        xen_9pdev->rings[i].evtchn = -1;\\n\\n        xen_9pdev->rings[i].local_port = -1;\\n\\n\\n\\n        str = g_strdup_printf(\\\"ring-ref%u\\\", i);\\n\\n        if (xenstore_read_fe_int(&xen_9pdev->xendev, str,\\n\\n                                 &xen_9pdev->rings[i].ref) == -1) {\\n\\n\\n            goto out;\\n\\n        }\\n\\n\\n        str = g_strdup_printf(\\\"event-channel-%u\\\", i);\\n\\n        if (xenstore_read_fe_int(&xen_9pdev->xendev, str,\\n\\n                                 &xen_9pdev->rings[i].evtchn) == -1) {\\n\\n\\n            goto out;\\n\\n        }\\n\\n\\n\\n\\n        xen_9pdev->rings[i].intf =  xengnttab_map_grant_ref(\\n\\n                xen_9pdev->xendev.gnttabdev,\\n\\n                xen_9pdev->xendev.dom,\\n\\n                xen_9pdev->rings[i].ref,\\n\\n                PROT_READ | PROT_WRITE);\\n\\n        if (!xen_9pdev->rings[i].intf) {\\n\\n            goto out;\\n\\n        }\\n\\n        ring_order = xen_9pdev->rings[i].intf->ring_order;\\n\\n        if (ring_order > MAX_RING_ORDER) {\\n\\n            goto out;\\n\\n        }\\n\\n        xen_9pdev->rings[i].ring_order = ring_order;\\n\\n        xen_9pdev->rings[i].data = xengnttab_map_domain_grant_refs(\\n\\n                xen_9pdev->xendev.gnttabdev,\\n\\n                (1 << ring_order),\\n\\n                xen_9pdev->xendev.dom,\\n\\n                xen_9pdev->rings[i].intf->ref,\\n\\n                PROT_READ | PROT_WRITE);\\n\\n        if (!xen_9pdev->rings[i].data) {\\n\\n            goto out;\\n\\n        }\\n\\n        xen_9pdev->rings[i].ring.in = xen_9pdev->rings[i].data;\\n\\n        xen_9pdev->rings[i].ring.out = xen_9pdev->rings[i].data +\\n\\n                                       XEN_FLEX_RING_SIZE(ring_order);\\n\\n\\n\\n        xen_9pdev->rings[i].bh = qemu_bh_new(xen_9pfs_bh, &xen_9pdev->rings[i]);\\n\\n        xen_9pdev->rings[i].out_cons = 0;\\n\\n        xen_9pdev->rings[i].out_size = 0;\\n\\n        xen_9pdev->rings[i].inprogress = false;\\n\\n\\n\\n\\n\\n        xen_9pdev->rings[i].evtchndev = xenevtchn_open(NULL, 0);\\n\\n        if (xen_9pdev->rings[i].evtchndev == NULL) {\\n\\n            goto out;\\n\\n        }\\n\\n        fcntl(xenevtchn_fd(xen_9pdev->rings[i].evtchndev), F_SETFD, FD_CLOEXEC);\\n\\n        xen_9pdev->rings[i].local_port = xenevtchn_bind_interdomain\\n\\n                                            (xen_9pdev->rings[i].evtchndev,\\n\\n                                             xendev->dom,\\n\\n                                             xen_9pdev->rings[i].evtchn);\\n\\n        if (xen_9pdev->rings[i].local_port == -1) {\\n\\n            xen_pv_printf(xendev, 0,\\n\\n                          \\\"xenevtchn_bind_interdomain failed port=%d\\\\n\\\",\\n\\n                          xen_9pdev->rings[i].evtchn);\\n\\n            goto out;\\n\\n        }\\n\\n        xen_pv_printf(xendev, 2, \\\"bind evtchn port %d\\\\n\\\", xendev->local_port);\\n\\n        qemu_set_fd_handler(xenevtchn_fd(xen_9pdev->rings[i].evtchndev),\\n\\n                xen_9pfs_evtchn_event, NULL, &xen_9pdev->rings[i]);\\n\\n    }\\n\\n\\n\\n    xen_9pdev->security_model = xenstore_read_be_str(xendev, \\\"security_model\\\");\\n\\n    xen_9pdev->path = xenstore_read_be_str(xendev, \\\"path\\\");\\n\\n    xen_9pdev->id = s->fsconf.fsdev_id =\\n\\n        g_strdup_printf(\\\"xen9p%d\\\", xendev->dev);\\n\\n    xen_9pdev->tag = s->fsconf.tag = xenstore_read_fe_str(xendev, \\\"tag\\\");\\n\\n    v9fs_register_transport(s, &xen_9p_transport);\\n\\n    fsdev = qemu_opts_create(qemu_find_opts(\\\"fsdev\\\"),\\n\\n            s->fsconf.tag,\\n\\n            1, NULL);\\n\\n    qemu_opt_set(fsdev, \\\"fsdriver\\\", \\\"local\\\", NULL);\\n\\n    qemu_opt_set(fsdev, \\\"path\\\", xen_9pdev->path, NULL);\\n\\n    qemu_opt_set(fsdev, \\\"security_model\\\", xen_9pdev->security_model, NULL);\\n\\n    qemu_opts_set_id(fsdev, s->fsconf.fsdev_id);\\n\\n    qemu_fsdev_add(fsdev);\\n\\n    v9fs_device_realize_common(s, NULL);\\n\\n\\n\\n    return 0;\\n\\n\\n\\nout:\\n\\n    xen_9pfs_free(xendev);\\n\\n    return -1;\\n\\n}\"\n",
      "  }\n",
      "] \n",
      "\n",
      "Raw response object: ChatCompletionOutput(choices=[ChatCompletionOutputComplete(finish_reason='stop', index=0, message=ChatCompletionOutputMessage(role='assistant', content='Yes', tool_call_id=None, tool_calls=None), logprobs=None)], created=1753301474, id='chatcmpl-7c222f32-1e2f-4579-acdc-29ccb4391991', model='llama-3.3-70b', system_fingerprint='fp_d9197bd9bfb96c41ef64', usage=ChatCompletionOutputUsage(completion_tokens=2, prompt_tokens=1373, total_tokens=1375, prompt_tokens_details={'cached_tokens': 0}), object='chat.completion', time_info={'queue_time': 0.00025729, 'prompt_time': 0.028381236, 'completion_time': 0.003419838, 'total_time': 0.03344917297363281, 'created': 1753301474}) \n",
      "\n",
      "Generated text: 'Yes' \n",
      "\n"
     ]
    }
   ],
   "execution_count": 4
  },
  {
   "metadata": {
    "ExecuteTime": {
     "end_time": "2025-07-23T20:11:14.456645Z",
     "start_time": "2025-07-23T20:11:14.444308Z"
    }
   },
   "cell_type": "code",
   "source": [
    "def analyze_code_vulnerability_llama(code_snippet):\n",
    "    messages = [\n",
    "        {\"role\": \"system\", \"content\": \"You are a cybersecurity expert. Only reply with Yes or No.\"},\n",
    "        {\"role\": \"user\",   \"content\": f\"Is the following C code vulnerable? Reply with Yes or No only:\\n{code_snippet}\"}\n",
    "    ]\n",
    "    try:\n",
    "        resp = client.chat.completions.create(\n",
    "            messages=messages,\n",
    "            max_tokens=10,\n",
    "            temperature=0.0,\n",
    "        )\n",
    "        reply = resp.choices[0].message.content.strip().lower()\n",
    "        if reply.startswith(\"yes\"):\n",
    "            return 1\n",
    "        if reply.startswith(\"no\"):\n",
    "            return 0\n",
    "        return -1\n",
    "    except Exception as e:\n",
    "        print(\"Error in Llama call:\", e)\n",
    "        return -1\n"
   ],
   "id": "5c56ca60a21806ed",
   "outputs": [],
   "execution_count": 5
  },
  {
   "metadata": {
    "ExecuteTime": {
     "end_time": "2025-07-23T20:11:21.158572Z",
     "start_time": "2025-07-23T20:11:14.487541Z"
    }
   },
   "cell_type": "code",
   "source": [
    "max_entries = 5\n",
    "test_subset = test_df.head(max_entries).copy()\n",
    "\n",
    "results = []\n",
    "for idx, row in test_subset.iterrows():\n",
    "    code = row[\"func\"]\n",
    "    print(f\"\\n[{idx}] Analyzing snippet…\")\n",
    "    pred = analyze_code_vulnerability_llama(code)\n",
    "    print(f\"[{idx}] Prediction: {pred}\")\n",
    "    results.append(pred)\n",
    "    time.sleep(1)   # short pause to avoid throttling\n",
    "\n",
    "test_subset[\"llm_pred\"] = results\n"
   ],
   "id": "6f26a0685c35bc01",
   "outputs": [
    {
     "name": "stdout",
     "output_type": "stream",
     "text": [
      "\n",
      "[0] Analyzing snippet…\n",
      "[0] Prediction: 1\n",
      "\n",
      "[1] Analyzing snippet…\n",
      "[1] Prediction: 1\n",
      "\n",
      "[2] Analyzing snippet…\n",
      "[2] Prediction: 1\n",
      "\n",
      "[3] Analyzing snippet…\n",
      "[3] Prediction: 1\n",
      "\n",
      "[4] Analyzing snippet…\n",
      "[4] Prediction: 1\n"
     ]
    }
   ],
   "execution_count": 6
  },
  {
   "metadata": {
    "ExecuteTime": {
     "end_time": "2025-07-23T20:11:21.233954Z",
     "start_time": "2025-07-23T20:11:21.191791Z"
    }
   },
   "cell_type": "code",
   "source": [
    "# Filter out any error predictions\n",
    "eval_df = test_subset[test_subset[\"llm_pred\"] >= 0]\n",
    "\n",
    "if eval_df.empty:\n",
    "    print(\"No successful predictions to evaluate.\")\n",
    "else:\n",
    "    print(\"LLM Test Set Performance:\\n\")\n",
    "    print(classification_report(\n",
    "        eval_df[\"target\"],\n",
    "        eval_df[\"llm_pred\"],\n",
    "        target_names=[\"Safe\", \"Vulnerable\"]\n",
    "    ))\n",
    "    print(\"\\nPrediction counts:\\n\", eval_df[\"llm_pred\"].value_counts())\n"
   ],
   "id": "343610cc562f2dcf",
   "outputs": [
    {
     "name": "stdout",
     "output_type": "stream",
     "text": [
      "LLM Test Set Performance:\n",
      "\n",
      "              precision    recall  f1-score   support\n",
      "\n",
      "        Safe       0.00      0.00      0.00         3\n",
      "  Vulnerable       0.40      1.00      0.57         2\n",
      "\n",
      "    accuracy                           0.40         5\n",
      "   macro avg       0.20      0.50      0.29         5\n",
      "weighted avg       0.16      0.40      0.23         5\n",
      "\n",
      "\n",
      "Prediction counts:\n",
      " llm_pred\n",
      "1    5\n",
      "Name: count, dtype: int64\n"
     ]
    },
    {
     "name": "stderr",
     "output_type": "stream",
     "text": [
      "/Users/arushijain/PycharmProjects/AIPoweredCodeAssistant/venv/lib/python3.10/site-packages/sklearn/metrics/_classification.py:1565: UndefinedMetricWarning: Precision is ill-defined and being set to 0.0 in labels with no predicted samples. Use `zero_division` parameter to control this behavior.\n",
      "  _warn_prf(average, modifier, f\"{metric.capitalize()} is\", len(result))\n",
      "/Users/arushijain/PycharmProjects/AIPoweredCodeAssistant/venv/lib/python3.10/site-packages/sklearn/metrics/_classification.py:1565: UndefinedMetricWarning: Precision is ill-defined and being set to 0.0 in labels with no predicted samples. Use `zero_division` parameter to control this behavior.\n",
      "  _warn_prf(average, modifier, f\"{metric.capitalize()} is\", len(result))\n",
      "/Users/arushijain/PycharmProjects/AIPoweredCodeAssistant/venv/lib/python3.10/site-packages/sklearn/metrics/_classification.py:1565: UndefinedMetricWarning: Precision is ill-defined and being set to 0.0 in labels with no predicted samples. Use `zero_division` parameter to control this behavior.\n",
      "  _warn_prf(average, modifier, f\"{metric.capitalize()} is\", len(result))\n"
     ]
    }
   ],
   "execution_count": 7
  },
  {
   "metadata": {
    "ExecuteTime": {
     "end_time": "2025-07-23T20:11:21.867727Z",
     "start_time": "2025-07-23T20:11:21.267567Z"
    }
   },
   "cell_type": "code",
   "source": [
    "# Pick the first snippet classified as vulnerable\n",
    "vuln_df = test_subset[test_subset[\"llm_pred\"] == 1]\n",
    "\n",
    "if vuln_df.empty:\n",
    "    print(\"No vulnerable code predicted. Skipping exploit generation.\")\n",
    "else:\n",
    "    example_code = vuln_df.iloc[0][\"func\"]\n",
    "    messages = [\n",
    "        {\"role\": \"system\", \"content\": \"You are an ethical hacker. Provide only the exploit steps.\"},\n",
    "        {\"role\": \"user\",   \"content\": f\"Provide a simulated exploit for the following vulnerable C code:\\n{example_code}\"}\n",
    "    ]\n",
    "    resp = client.chat.completions.create(\n",
    "        model=MODEL_ID,\n",
    "        messages=messages,\n",
    "        max_tokens=300,\n",
    "        temperature=0.3,\n",
    "    )\n",
    "    exploit = resp.choices[0].message.content.strip()\n",
    "    print(\"Exploit simulation:\\n\", exploit)\n"
   ],
   "id": "783c13201f2e37cd",
   "outputs": [
    {
     "name": "stdout",
     "output_type": "stream",
     "text": [
      "Exploit simulation:\n",
      " ### Exploit Steps\n",
      "\n",
      "The given C code appears to be a part of a media processing library, specifically designed to parse WAV file headers. To simulate an exploit, we'll focus on potential vulnerabilities such as buffer overflows, integer overflows, or out-of-bounds reads.\n",
      "\n",
      "1. **Integer Overflow Vulnerability**:\n",
      "   - **Location**: The calculation of `bitrate` (`bitrate = avio_rl32(pb) * 8LL;`).\n",
      "   - **Exploit Step**: Craft a WAV file where the 32-bit value read by `avio_rl32(pb)` is close to the maximum value that can be represented by a 32-bit integer (e.g., `0xFFFFFFFF`). When multiplied by 8, this could overflow and wrap around, potentially causing unexpected behavior or allowing for further exploitation if the resulting `bitrate` value is used in a way that can be controlled by an attacker.\n",
      "\n",
      "2. **Buffer Overflow Vulnerability**:\n",
      "   - **Location**: The handling of `cbSize` in the WAVEFORMATEX parsing logic (`int cbSize = avio_rl16(pb);`).\n",
      "   - **Exploit Step**: Create a WAV file with a `cbSize` value that is larger than the remaining size of the file or larger than the allocated buffer for `codec->extradata`. This could lead to a buffer overflow when `ff_get_extradata(codec, pb, cbSize)` is called, potentially allowing for arbitrary code\n"
     ]
    }
   ],
   "execution_count": 8
  },
  {
   "metadata": {
    "ExecuteTime": {
     "end_time": "2025-07-23T20:11:21.910488Z",
     "start_time": "2025-07-23T20:11:21.908125Z"
    }
   },
   "cell_type": "code",
   "source": "",
   "id": "47612cb654a288c0",
   "outputs": [],
   "execution_count": null
  }
 ],
 "metadata": {
  "kernelspec": {
   "display_name": "Python 3",
   "language": "python",
   "name": "python3"
  },
  "language_info": {
   "codemirror_mode": {
    "name": "ipython",
    "version": 2
   },
   "file_extension": ".py",
   "mimetype": "text/x-python",
   "name": "python",
   "nbconvert_exporter": "python",
   "pygments_lexer": "ipython2",
   "version": "2.7.6"
  }
 },
 "nbformat": 4,
 "nbformat_minor": 5
}
