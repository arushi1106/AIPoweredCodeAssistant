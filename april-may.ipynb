{
 "cells": [
  {
   "cell_type": "code",
   "id": "initial_id",
   "metadata": {
    "collapsed": true,
    "ExecuteTime": {
     "end_time": "2025-04-23T21:31:32.166107Z",
     "start_time": "2025-04-23T21:31:28.440493Z"
    }
   },
   "source": "!pip install pandas requests datasets tqdm transformers",
   "outputs": [
    {
     "name": "stderr",
     "output_type": "stream",
     "text": [
      "huggingface/tokenizers: The current process just got forked, after parallelism has already been used. Disabling parallelism to avoid deadlocks...\n",
      "To disable this warning, you can either:\n",
      "\t- Avoid using `tokenizers` before the fork if possible\n",
      "\t- Explicitly set the environment variable TOKENIZERS_PARALLELISM=(true | false)\n"
     ]
    },
    {
     "name": "stdout",
     "output_type": "stream",
     "text": [
      "Requirement already satisfied: pandas in ./venv/lib/python3.10/site-packages (2.2.3)\r\n",
      "Requirement already satisfied: requests in ./venv/lib/python3.10/site-packages (2.32.3)\r\n",
      "Requirement already satisfied: datasets in ./venv/lib/python3.10/site-packages (3.5.0)\r\n",
      "Requirement already satisfied: tqdm in ./venv/lib/python3.10/site-packages (4.67.1)\r\n",
      "Requirement already satisfied: transformers in ./venv/lib/python3.10/site-packages (4.51.3)\r\n",
      "Requirement already satisfied: numpy>=1.22.4 in ./venv/lib/python3.10/site-packages (from pandas) (2.2.5)\r\n",
      "Requirement already satisfied: python-dateutil>=2.8.2 in ./venv/lib/python3.10/site-packages (from pandas) (2.9.0.post0)\r\n",
      "Requirement already satisfied: pytz>=2020.1 in ./venv/lib/python3.10/site-packages (from pandas) (2025.2)\r\n",
      "Requirement already satisfied: tzdata>=2022.7 in ./venv/lib/python3.10/site-packages (from pandas) (2025.2)\r\n",
      "Requirement already satisfied: charset-normalizer<4,>=2 in ./venv/lib/python3.10/site-packages (from requests) (3.4.1)\r\n",
      "Requirement already satisfied: idna<4,>=2.5 in ./venv/lib/python3.10/site-packages (from requests) (3.10)\r\n",
      "Requirement already satisfied: urllib3<3,>=1.21.1 in ./venv/lib/python3.10/site-packages (from requests) (2.4.0)\r\n",
      "Requirement already satisfied: certifi>=2017.4.17 in ./venv/lib/python3.10/site-packages (from requests) (2025.1.31)\r\n",
      "Requirement already satisfied: filelock in ./venv/lib/python3.10/site-packages (from datasets) (3.18.0)\r\n",
      "Requirement already satisfied: pyarrow>=15.0.0 in ./venv/lib/python3.10/site-packages (from datasets) (19.0.1)\r\n",
      "Requirement already satisfied: dill<0.3.9,>=0.3.0 in ./venv/lib/python3.10/site-packages (from datasets) (0.3.8)\r\n",
      "Requirement already satisfied: xxhash in ./venv/lib/python3.10/site-packages (from datasets) (3.5.0)\r\n",
      "Requirement already satisfied: multiprocess<0.70.17 in ./venv/lib/python3.10/site-packages (from datasets) (0.70.16)\r\n",
      "Requirement already satisfied: fsspec[http]<=2024.12.0,>=2023.1.0 in ./venv/lib/python3.10/site-packages (from datasets) (2024.12.0)\r\n",
      "Requirement already satisfied: aiohttp in ./venv/lib/python3.10/site-packages (from datasets) (3.11.18)\r\n",
      "Requirement already satisfied: huggingface-hub>=0.24.0 in ./venv/lib/python3.10/site-packages (from datasets) (0.30.2)\r\n",
      "Requirement already satisfied: packaging in ./venv/lib/python3.10/site-packages (from datasets) (25.0)\r\n",
      "Requirement already satisfied: pyyaml>=5.1 in ./venv/lib/python3.10/site-packages (from datasets) (6.0.2)\r\n",
      "Requirement already satisfied: regex!=2019.12.17 in ./venv/lib/python3.10/site-packages (from transformers) (2024.11.6)\r\n",
      "Requirement already satisfied: tokenizers<0.22,>=0.21 in ./venv/lib/python3.10/site-packages (from transformers) (0.21.1)\r\n",
      "Requirement already satisfied: safetensors>=0.4.3 in ./venv/lib/python3.10/site-packages (from transformers) (0.5.3)\r\n",
      "Requirement already satisfied: aiohappyeyeballs>=2.3.0 in ./venv/lib/python3.10/site-packages (from aiohttp->datasets) (2.6.1)\r\n",
      "Requirement already satisfied: aiosignal>=1.1.2 in ./venv/lib/python3.10/site-packages (from aiohttp->datasets) (1.3.2)\r\n",
      "Requirement already satisfied: async-timeout<6.0,>=4.0 in ./venv/lib/python3.10/site-packages (from aiohttp->datasets) (5.0.1)\r\n",
      "Requirement already satisfied: attrs>=17.3.0 in ./venv/lib/python3.10/site-packages (from aiohttp->datasets) (25.3.0)\r\n",
      "Requirement already satisfied: frozenlist>=1.1.1 in ./venv/lib/python3.10/site-packages (from aiohttp->datasets) (1.6.0)\r\n",
      "Requirement already satisfied: multidict<7.0,>=4.5 in ./venv/lib/python3.10/site-packages (from aiohttp->datasets) (6.4.3)\r\n",
      "Requirement already satisfied: propcache>=0.2.0 in ./venv/lib/python3.10/site-packages (from aiohttp->datasets) (0.3.1)\r\n",
      "Requirement already satisfied: yarl<2.0,>=1.17.0 in ./venv/lib/python3.10/site-packages (from aiohttp->datasets) (1.20.0)\r\n",
      "Requirement already satisfied: typing-extensions>=3.7.4.3 in ./venv/lib/python3.10/site-packages (from huggingface-hub>=0.24.0->datasets) (4.13.2)\r\n",
      "Requirement already satisfied: six>=1.5 in ./venv/lib/python3.10/site-packages (from python-dateutil>=2.8.2->pandas) (1.17.0)\r\n",
      "\r\n",
      "\u001B[1m[\u001B[0m\u001B[34;49mnotice\u001B[0m\u001B[1;39;49m]\u001B[0m\u001B[39;49m A new release of pip is available: \u001B[0m\u001B[31;49m23.2.1\u001B[0m\u001B[39;49m -> \u001B[0m\u001B[32;49m25.0.1\u001B[0m\r\n",
      "\u001B[1m[\u001B[0m\u001B[34;49mnotice\u001B[0m\u001B[1;39;49m]\u001B[0m\u001B[39;49m To update, run: \u001B[0m\u001B[32;49mpip install --upgrade pip\u001B[0m\r\n"
     ]
    }
   ],
   "execution_count": 31
  },
  {
   "metadata": {
    "ExecuteTime": {
     "end_time": "2025-04-23T21:31:49.421629Z",
     "start_time": "2025-04-23T21:31:49.416363Z"
    }
   },
   "cell_type": "code",
   "source": [
    "import os\n",
    "\n",
    "# Create dataset directory\n",
    "os.makedirs(\"datasets/security\", exist_ok=True)\n",
    "print(\"Created folder: datasets/security\")\n"
   ],
   "id": "ef8dc639849ff828",
   "outputs": [
    {
     "name": "stdout",
     "output_type": "stream",
     "text": [
      "Created folder: datasets/security\n"
     ]
    }
   ],
   "execution_count": 32
  },
  {
   "metadata": {
    "ExecuteTime": {
     "end_time": "2025-04-23T21:31:53.761610Z",
     "start_time": "2025-04-23T21:31:50.401581Z"
    }
   },
   "cell_type": "code",
   "source": [
    "from datasets import load_dataset\n",
    "\n",
    "# Load the dataset from Hugging Face\n",
    "dataset = load_dataset(\"code_x_glue_cc_defect_detection\")\n",
    "\n",
    "# Check the available splits\n",
    "print(dataset)\n",
    "\n",
    "# Show a few samples\n",
    "dataset[\"train\"][0]"
   ],
   "id": "72ccba28245ee7ec",
   "outputs": [
    {
     "name": "stdout",
     "output_type": "stream",
     "text": [
      "DatasetDict({\n",
      "    train: Dataset({\n",
      "        features: ['id', 'func', 'target', 'project', 'commit_id'],\n",
      "        num_rows: 21854\n",
      "    })\n",
      "    validation: Dataset({\n",
      "        features: ['id', 'func', 'target', 'project', 'commit_id'],\n",
      "        num_rows: 2732\n",
      "    })\n",
      "    test: Dataset({\n",
      "        features: ['id', 'func', 'target', 'project', 'commit_id'],\n",
      "        num_rows: 2732\n",
      "    })\n",
      "})\n"
     ]
    },
    {
     "data": {
      "text/plain": [
       "{'id': 0,\n",
       " 'func': 'static av_cold int vdadec_init(AVCodecContext *avctx)\\n\\n{\\n\\n    VDADecoderContext *ctx = avctx->priv_data;\\n\\n    struct vda_context *vda_ctx = &ctx->vda_ctx;\\n\\n    OSStatus status;\\n\\n    int ret;\\n\\n\\n\\n    ctx->h264_initialized = 0;\\n\\n\\n\\n    /* init pix_fmts of codec */\\n\\n    if (!ff_h264_vda_decoder.pix_fmts) {\\n\\n        if (kCFCoreFoundationVersionNumber < kCFCoreFoundationVersionNumber10_7)\\n\\n            ff_h264_vda_decoder.pix_fmts = vda_pixfmts_prior_10_7;\\n\\n        else\\n\\n            ff_h264_vda_decoder.pix_fmts = vda_pixfmts;\\n\\n    }\\n\\n\\n\\n    /* init vda */\\n\\n    memset(vda_ctx, 0, sizeof(struct vda_context));\\n\\n    vda_ctx->width = avctx->width;\\n\\n    vda_ctx->height = avctx->height;\\n\\n    vda_ctx->format = \\'avc1\\';\\n\\n    vda_ctx->use_sync_decoding = 1;\\n\\n    vda_ctx->use_ref_buffer = 1;\\n\\n    ctx->pix_fmt = avctx->get_format(avctx, avctx->codec->pix_fmts);\\n\\n    switch (ctx->pix_fmt) {\\n\\n    case AV_PIX_FMT_UYVY422:\\n\\n        vda_ctx->cv_pix_fmt_type = \\'2vuy\\';\\n\\n        break;\\n\\n    case AV_PIX_FMT_YUYV422:\\n\\n        vda_ctx->cv_pix_fmt_type = \\'yuvs\\';\\n\\n        break;\\n\\n    case AV_PIX_FMT_NV12:\\n\\n        vda_ctx->cv_pix_fmt_type = \\'420v\\';\\n\\n        break;\\n\\n    case AV_PIX_FMT_YUV420P:\\n\\n        vda_ctx->cv_pix_fmt_type = \\'y420\\';\\n\\n        break;\\n\\n    default:\\n\\n        av_log(avctx, AV_LOG_ERROR, \"Unsupported pixel format: %d\\\\n\", avctx->pix_fmt);\\n\\n        goto failed;\\n\\n    }\\n\\n    status = ff_vda_create_decoder(vda_ctx,\\n\\n                                   avctx->extradata, avctx->extradata_size);\\n\\n    if (status != kVDADecoderNoErr) {\\n\\n        av_log(avctx, AV_LOG_ERROR,\\n\\n                \"Failed to init VDA decoder: %d.\\\\n\", status);\\n\\n        goto failed;\\n\\n    }\\n\\n    avctx->hwaccel_context = vda_ctx;\\n\\n\\n\\n    /* changes callback functions */\\n\\n    avctx->get_format = get_format;\\n\\n    avctx->get_buffer2 = get_buffer2;\\n\\n#if FF_API_GET_BUFFER\\n\\n    // force the old get_buffer to be empty\\n\\n    avctx->get_buffer = NULL;\\n\\n#endif\\n\\n\\n\\n    /* init H.264 decoder */\\n\\n    ret = ff_h264_decoder.init(avctx);\\n\\n    if (ret < 0) {\\n\\n        av_log(avctx, AV_LOG_ERROR, \"Failed to open H.264 decoder.\\\\n\");\\n\\n        goto failed;\\n\\n    }\\n\\n    ctx->h264_initialized = 1;\\n\\n\\n\\n    return 0;\\n\\n\\n\\nfailed:\\n\\n    vdadec_close(avctx);\\n\\n    return -1;\\n\\n}\\n',\n",
       " 'target': False,\n",
       " 'project': 'FFmpeg',\n",
       " 'commit_id': '973b1a6b9070e2bf17d17568cbaf4043ce931f51'}"
      ]
     },
     "execution_count": 33,
     "metadata": {},
     "output_type": "execute_result"
    }
   ],
   "execution_count": 33
  },
  {
   "metadata": {
    "ExecuteTime": {
     "end_time": "2025-04-23T21:32:00.389947Z",
     "start_time": "2025-04-23T21:31:55.373682Z"
    }
   },
   "cell_type": "code",
   "source": [
    "import pandas as pd\n",
    "\n",
    "# Convert to pandas DataFrame\n",
    "df_train = pd.DataFrame(dataset[\"train\"])\n",
    "df_valid = pd.DataFrame(dataset[\"validation\"])\n",
    "df_test = pd.DataFrame(dataset[\"test\"])\n",
    "\n",
    "# Save\n",
    "df_train.to_csv(\"datasets/security/train.csv\", index=False)\n",
    "df_valid.to_csv(\"datasets/security/valid.csv\", index=False)\n",
    "df_test.to_csv(\"datasets/security/test.csv\", index=False)\n",
    "\n",
    "print(\"Dataset saved as CSV files.\")\n"
   ],
   "id": "30d2830998c9690f",
   "outputs": [
    {
     "name": "stdout",
     "output_type": "stream",
     "text": [
      "Dataset saved as CSV files.\n"
     ]
    }
   ],
   "execution_count": 34
  },
  {
   "metadata": {
    "ExecuteTime": {
     "end_time": "2025-04-23T21:32:04.585614Z",
     "start_time": "2025-04-23T21:32:01.302252Z"
    }
   },
   "cell_type": "code",
   "source": "!pip install matplotlib",
   "id": "50e33374d6d2ca37",
   "outputs": [
    {
     "name": "stderr",
     "output_type": "stream",
     "text": [
      "huggingface/tokenizers: The current process just got forked, after parallelism has already been used. Disabling parallelism to avoid deadlocks...\n",
      "To disable this warning, you can either:\n",
      "\t- Avoid using `tokenizers` before the fork if possible\n",
      "\t- Explicitly set the environment variable TOKENIZERS_PARALLELISM=(true | false)\n"
     ]
    },
    {
     "name": "stdout",
     "output_type": "stream",
     "text": [
      "Requirement already satisfied: matplotlib in ./venv/lib/python3.10/site-packages (3.10.1)\r\n",
      "Requirement already satisfied: contourpy>=1.0.1 in ./venv/lib/python3.10/site-packages (from matplotlib) (1.3.2)\r\n",
      "Requirement already satisfied: cycler>=0.10 in ./venv/lib/python3.10/site-packages (from matplotlib) (0.12.1)\r\n",
      "Requirement already satisfied: fonttools>=4.22.0 in ./venv/lib/python3.10/site-packages (from matplotlib) (4.57.0)\r\n",
      "Requirement already satisfied: kiwisolver>=1.3.1 in ./venv/lib/python3.10/site-packages (from matplotlib) (1.4.8)\r\n",
      "Requirement already satisfied: numpy>=1.23 in ./venv/lib/python3.10/site-packages (from matplotlib) (2.2.5)\r\n",
      "Requirement already satisfied: packaging>=20.0 in ./venv/lib/python3.10/site-packages (from matplotlib) (25.0)\r\n",
      "Requirement already satisfied: pillow>=8 in ./venv/lib/python3.10/site-packages (from matplotlib) (11.2.1)\r\n",
      "Requirement already satisfied: pyparsing>=2.3.1 in ./venv/lib/python3.10/site-packages (from matplotlib) (3.2.3)\r\n",
      "Requirement already satisfied: python-dateutil>=2.7 in ./venv/lib/python3.10/site-packages (from matplotlib) (2.9.0.post0)\r\n",
      "Requirement already satisfied: six>=1.5 in ./venv/lib/python3.10/site-packages (from python-dateutil>=2.7->matplotlib) (1.17.0)\r\n",
      "\r\n",
      "\u001B[1m[\u001B[0m\u001B[34;49mnotice\u001B[0m\u001B[1;39;49m]\u001B[0m\u001B[39;49m A new release of pip is available: \u001B[0m\u001B[31;49m23.2.1\u001B[0m\u001B[39;49m -> \u001B[0m\u001B[32;49m25.0.1\u001B[0m\r\n",
      "\u001B[1m[\u001B[0m\u001B[34;49mnotice\u001B[0m\u001B[1;39;49m]\u001B[0m\u001B[39;49m To update, run: \u001B[0m\u001B[32;49mpip install --upgrade pip\u001B[0m\r\n"
     ]
    }
   ],
   "execution_count": 35
  },
  {
   "metadata": {
    "ExecuteTime": {
     "end_time": "2025-04-23T21:32:07.245389Z",
     "start_time": "2025-04-23T21:32:06.447712Z"
    }
   },
   "cell_type": "code",
   "source": [
    "import matplotlib.pyplot as plt\n",
    "\n",
    "# Basic stats\n",
    "print(df_train.info())\n",
    "print(df_train['target'].value_counts())\n",
    "\n",
    "# Plot class distribution\n",
    "df_train['target'].value_counts().plot(kind='bar', title='Class Distribution (Train)', rot=0)\n",
    "plt.show()\n",
    "\n",
    "# Optional: check function lengths\n",
    "df_train['func_length'] = df_train['func'].apply(lambda x: len(x.split()))\n",
    "df_train['func_length'].hist(bins=50)\n",
    "plt.title(\"Function Length Distribution\")\n",
    "plt.show()"
   ],
   "id": "320f7b9a3d8a36cc",
   "outputs": [
    {
     "name": "stdout",
     "output_type": "stream",
     "text": [
      "<class 'pandas.core.frame.DataFrame'>\n",
      "RangeIndex: 21854 entries, 0 to 21853\n",
      "Data columns (total 5 columns):\n",
      " #   Column     Non-Null Count  Dtype \n",
      "---  ------     --------------  ----- \n",
      " 0   id         21854 non-null  int64 \n",
      " 1   func       21854 non-null  object\n",
      " 2   target     21854 non-null  bool  \n",
      " 3   project    21854 non-null  object\n",
      " 4   commit_id  21854 non-null  object\n",
      "dtypes: bool(1), int64(1), object(3)\n",
      "memory usage: 704.4+ KB\n",
      "None\n",
      "target\n",
      "False    11836\n",
      "True     10018\n",
      "Name: count, dtype: int64\n"
     ]
    },
    {
     "data": {
      "text/plain": [
       "<Figure size 640x480 with 1 Axes>"
      ],
      "image/png": "[encoded data removed]"
     },
     "metadata": {},
     "output_type": "display_data"
    },
    {
     "data": {
      "text/plain": [
       "<Figure size 640x480 with 1 Axes>"
      ],
      "image/png": "[encoded data removed]"
     },
     "metadata": {},
     "output_type": "display_data"
    }
   ],
   "execution_count": 36
  },
  {
   "metadata": {
    "ExecuteTime": {
     "end_time": "2025-04-23T21:32:08.357637Z",
     "start_time": "2025-04-23T21:32:07.846460Z"
    }
   },
   "cell_type": "code",
   "source": [
    "from transformers import AutoTokenizer\n",
    "\n",
    "tokenizer = AutoTokenizer.from_pretrained(\"microsoft/codebert-base\")\n",
    "\n",
    "def tokenize_code(row):\n",
    "    return tokenizer(row[\"func\"], truncation=True, max_length=512)\n",
    "\n",
    "# Apply to a small sample first\n",
    "df_sample = df_train.sample(10)\n",
    "tokenized = df_sample.apply(tokenize_code, axis=1)\n",
    "\n",
    "tokenized.head()"
   ],
   "id": "1eaa5c833541db2f",
   "outputs": [
    {
     "data": {
      "text/plain": [
       "6345     [input_ids, attention_mask]\n",
       "17171    [input_ids, attention_mask]\n",
       "13585    [input_ids, attention_mask]\n",
       "2971     [input_ids, attention_mask]\n",
       "16127    [input_ids, attention_mask]\n",
       "dtype: object"
      ]
     },
     "execution_count": 37,
     "metadata": {},
     "output_type": "execute_result"
    }
   ],
   "execution_count": 37
  },
  {
   "metadata": {
    "ExecuteTime": {
     "end_time": "2025-04-23T21:33:04.764543Z",
     "start_time": "2025-04-23T21:32:09.665827Z"
    }
   },
   "cell_type": "code",
   "source": [
    "print(\"Tokenizing train set...\")\n",
    "df_train[\"tokens\"] = df_train.apply(tokenize_code, axis=1)\n",
    "\n",
    "print(\"Tokenizing validation set...\")\n",
    "df_valid[\"tokens\"] = df_valid.apply(tokenize_code, axis=1)\n",
    "\n",
    "print(\"Tokenizing test set...\")\n",
    "df_test[\"tokens\"] = df_test.apply(tokenize_code, axis=1)\n",
    "\n",
    "print(\"tokenization completed!\")"
   ],
   "id": "63f4f05503cc420c",
   "outputs": [
    {
     "name": "stdout",
     "output_type": "stream",
     "text": [
      "Tokenizing train set...\n",
      "Tokenizing validation set...\n",
      "Tokenizing test set...\n",
      "tokenization completed!\n"
     ]
    }
   ],
   "execution_count": 38
  },
  {
   "metadata": {
    "ExecuteTime": {
     "end_time": "2025-04-23T21:33:20.630665Z",
     "start_time": "2025-04-23T21:33:20.623277Z"
    }
   },
   "cell_type": "code",
   "source": "df_train[\"tokens\"].iloc[0]",
   "id": "1a7b5af8075a00cc",
   "outputs": [
    {
     "data": {
      "text/plain": [
       "{'input_ids': [0, 42653, 6402, 1215, 33912, 6979, 748, 417, 1829, 438, 1215, 25153, 1640, 10612, 47436, 3204, 48522, 1009, 1469, 49575, 43, 50118, 50118, 45152, 50140, 1437, 1437, 1437, 468, 495, 2606, 3204, 15362, 48522, 1009, 49575, 5457, 6402, 49575, 46613, 25943, 1215, 23687, 131, 50140, 1437, 1437, 1437, 29916, 748, 6106, 1215, 46796, 1009, 705, 6106, 1215, 49575, 5457, 359, 49575, 46613, 705, 6106, 1215, 49575, 131, 50140, 1437, 1437, 1437, 8192, 47731, 2194, 131, 50140, 1437, 1437, 1437, 6979, 5494, 131, 50140, 50140, 1437, 1437, 1437, 740, 43820, 46613, 298, 29137, 1215, 49722, 5457, 321, 131, 50140, 50140, 1437, 1437, 1437, 48565, 45511, 181, 3181, 1215, 40523, 1872, 9, 45797, 48404, 50140, 1437, 1437, 1437, 114, 48209, 3145, 1215, 298, 29137, 1215, 705, 6106, 1215, 11127, 15362, 4, 642, 3181, 1215, 40523, 1872, 43, 25522, 50140, 1437, 1437, 1437, 1437, 1437, 1437, 1437, 114, 36, 330, 347, 5268, 1688, 29991, 1258, 47322, 43623, 28696, 449, 347, 5268, 1688, 29991, 1258, 47322, 43623, 698, 1215, 406, 43, 50140, 1437, 1437, 1437, 1437, 1437, 1437, 1437, 1437, 1437, 1437, 1437, 48400, 1215, 298, 29137, 1215, 705, 6106, 1215, 11127, 15362, 4, 642, 3181, 1215, 40523, 1872, 5457, 748, 6106, 1215, 642, 3181, 40523, 1872, 1215, 13718, 368, 1215, 698, 1215, 406, 131, 50140, 1437, 1437, 1437, 1437, 1437, 1437, 1437, 1493, 50140, 1437, 1437, 1437, 1437, 1437, 1437, 1437, 1437, 1437, 1437, 1437, 48400, 1215, 298, 29137, 1215, 705, 6106, 1215, 11127, 15362, 4, 642, 3181, 1215, 40523, 1872, 5457, 748, 6106, 1215, 642, 3181, 40523, 1872, 131, 50140, 1437, 1437, 1437, 35524, 50140, 50140, 1437, 1437, 1437, 48565, 45511, 748, 6106, 48404, 50140, 1437, 1437, 1437, 26012, 8738, 1640, 705, 6106, 1215, 49575, 6, 321, 6, 49907, 1640, 25384, 748, 6106, 1215, 46796, 48749, 50140, 1437, 1437, 1437, 748, 6106, 1215, 49575, 46613, 36097, 5457, 6402, 49575, 46613, 36097, 131, 50140, 1437, 1437, 1437, 748, 6106, 1215, 49575, 46613, 37009, 5457, 6402, 49575, 46613, 37009, 131, 50140, 1437, 1437, 1437, 748, 6106, 1215, 49575, 46613, 34609, 5457, 128, 1469, 438, 134, 23500, 50140, 1437, 1437, 1437, 748, 6106, 1215, 49575, 46613, 3698, 1215, 45176, 1215, 11127, 19519, 5457, 112, 131, 50140, 1437, 1437, 1437, 748, 6106, 1215, 49575, 46613, 3698, 1215, 13043, 1215, 47438, 5457, 112, 131, 50140, 1437, 1437, 1437, 740, 43820, 46613, 642, 3181, 1215, 506, 16100, 5457, 6402, 49575, 46613, 6460, 1215, 34609, 1640, 1469, 49575, 6, 6402, 49575, 46613, 29659, 3204, 46613, 642, 3181, 1215, 40523, 1872, 4397, 50140, 1437, 1437, 1437, 5405, 36, 49575, 46613, 642, 3181, 1215, 506, 16100, 43, 25522, 50140, 1437, 1437, 1437, 403, 17307, 1215, 510, 9482, 1215, 597, 11674, 1215, 791, 975, 846, 975, 37319, 35, 50140, 1437, 1437, 1437, 1437, 1437, 1437, 1437, 748, 6106, 1215, 49575, 46613, 38635, 1215, 642, 3181, 1215, 506, 16100, 1215, 12528, 5457, 128, 176, 705, 5781, 23500, 50140, 1437, 1437, 1437, 1437, 1437, 1437, 1437, 1108, 131, 50140, 1437, 1437, 1437, 403, 17307, 1215, 510, 9482, 1215, 597, 11674, 1215, 975, 791, 975, 846, 37319, 35, 50140, 1437, 1437, 1437, 1437, 1437, 1437, 1437, 2], 'attention_mask': [1, 1, 1, 1, 1, 1, 1, 1, 1, 1, 1, 1, 1, 1, 1, 1, 1, 1, 1, 1, 1, 1, 1, 1, 1, 1, 1, 1, 1, 1, 1, 1, 1, 1, 1, 1, 1, 1, 1, 1, 1, 1, 1, 1, 1, 1, 1, 1, 1, 1, 1, 1, 1, 1, 1, 1, 1, 1, 1, 1, 1, 1, 1, 1, 1, 1, 1, 1, 1, 1, 1, 1, 1, 1, 1, 1, 1, 1, 1, 1, 1, 1, 1, 1, 1, 1, 1, 1, 1, 1, 1, 1, 1, 1, 1, 1, 1, 1, 1, 1, 1, 1, 1, 1, 1, 1, 1, 1, 1, 1, 1, 1, 1, 1, 1, 1, 1, 1, 1, 1, 1, 1, 1, 1, 1, 1, 1, 1, 1, 1, 1, 1, 1, 1, 1, 1, 1, 1, 1, 1, 1, 1, 1, 1, 1, 1, 1, 1, 1, 1, 1, 1, 1, 1, 1, 1, 1, 1, 1, 1, 1, 1, 1, 1, 1, 1, 1, 1, 1, 1, 1, 1, 1, 1, 1, 1, 1, 1, 1, 1, 1, 1, 1, 1, 1, 1, 1, 1, 1, 1, 1, 1, 1, 1, 1, 1, 1, 1, 1, 1, 1, 1, 1, 1, 1, 1, 1, 1, 1, 1, 1, 1, 1, 1, 1, 1, 1, 1, 1, 1, 1, 1, 1, 1, 1, 1, 1, 1, 1, 1, 1, 1, 1, 1, 1, 1, 1, 1, 1, 1, 1, 1, 1, 1, 1, 1, 1, 1, 1, 1, 1, 1, 1, 1, 1, 1, 1, 1, 1, 1, 1, 1, 1, 1, 1, 1, 1, 1, 1, 1, 1, 1, 1, 1, 1, 1, 1, 1, 1, 1, 1, 1, 1, 1, 1, 1, 1, 1, 1, 1, 1, 1, 1, 1, 1, 1, 1, 1, 1, 1, 1, 1, 1, 1, 1, 1, 1, 1, 1, 1, 1, 1, 1, 1, 1, 1, 1, 1, 1, 1, 1, 1, 1, 1, 1, 1, 1, 1, 1, 1, 1, 1, 1, 1, 1, 1, 1, 1, 1, 1, 1, 1, 1, 1, 1, 1, 1, 1, 1, 1, 1, 1, 1, 1, 1, 1, 1, 1, 1, 1, 1, 1, 1, 1, 1, 1, 1, 1, 1, 1, 1, 1, 1, 1, 1, 1, 1, 1, 1, 1, 1, 1, 1, 1, 1, 1, 1, 1, 1, 1, 1, 1, 1, 1, 1, 1, 1, 1, 1, 1, 1, 1, 1, 1, 1, 1, 1, 1, 1, 1, 1, 1, 1, 1, 1, 1, 1, 1, 1, 1, 1, 1, 1, 1, 1, 1, 1, 1, 1, 1, 1, 1, 1, 1, 1, 1, 1, 1, 1, 1, 1, 1, 1, 1, 1, 1, 1, 1, 1, 1, 1, 1, 1, 1, 1, 1, 1, 1, 1, 1, 1, 1, 1, 1, 1, 1, 1, 1, 1, 1, 1, 1, 1, 1, 1, 1, 1, 1, 1, 1, 1, 1, 1, 1, 1, 1, 1, 1, 1, 1, 1, 1, 1, 1, 1, 1, 1, 1, 1, 1, 1, 1, 1, 1, 1, 1, 1, 1, 1, 1, 1, 1]}"
      ]
     },
     "execution_count": 39,
     "metadata": {},
     "output_type": "execute_result"
    }
   ],
   "execution_count": 39
  },
  {
   "metadata": {
    "ExecuteTime": {
     "end_time": "2025-04-23T21:36:18.416248Z",
     "start_time": "2025-04-23T21:33:22.188173Z"
    }
   },
   "cell_type": "code",
   "source": [
    "import re\n",
    "import random\n",
    "\n",
    "def rename_variables(code):\n",
    "    pattern = r\"\\b([a-zA-Z_][a-zA-Z_0-9]*)\\b\"\n",
    "    reserved = {'for', 'while', 'if', 'else', 'return', 'int', 'float', 'void'}\n",
    "    vars_found = list(set(re.findall(pattern, code)) - reserved)\n",
    "    rename_map = {v: v + f\"_{random.randint(100,999)}\" for v in vars_found}\n",
    "    for old, new in rename_map.items():\n",
    "        code = re.sub(rf'\\b{old}\\b', new, code)\n",
    "    return code\n",
    "\n",
    "df_train['func_aug'] = df_train['func'].apply(rename_variables)"
   ],
   "id": "2a4210fd7c5bfe86",
   "outputs": [],
   "execution_count": 40
  },
  {
   "metadata": {
    "ExecuteTime": {
     "end_time": "2025-04-23T21:36:26.794427Z",
     "start_time": "2025-04-23T21:36:26.469376Z"
    }
   },
   "cell_type": "code",
   "source": [
    "def insert_comment(code):\n",
    "    lines = code.split('\\n')\n",
    "    if len(lines) > 2:\n",
    "        idx = random.randint(1, len(lines) - 2)\n",
    "        lines.insert(idx, \"// TODO: review this logic\")\n",
    "    return '\\n'.join(lines)\n",
    "\n",
    "df_train['func_aug'] = df_train['func_aug'].apply(insert_comment)"
   ],
   "id": "547ca05e23fc8211",
   "outputs": [],
   "execution_count": 41
  },
  {
   "metadata": {
    "ExecuteTime": {
     "end_time": "2025-04-23T21:36:28.169166Z",
     "start_time": "2025-04-23T21:36:27.148212Z"
    }
   },
   "cell_type": "code",
   "source": [
    "def add_formatting_noise(code):\n",
    "    code = code.replace(\"    \", \"\\t\")\n",
    "    return re.sub(r\" {2,}\", \" \", code)\n",
    "\n",
    "df_train['func_aug'] = df_train['func_aug'].apply(add_formatting_noise)"
   ],
   "id": "92ed2854df7a93f",
   "outputs": [],
   "execution_count": 42
  },
  {
   "metadata": {
    "ExecuteTime": {
     "end_time": "2025-04-23T21:36:28.247380Z",
     "start_time": "2025-04-23T21:36:28.188383Z"
    }
   },
   "cell_type": "code",
   "source": [
    "def insert_dead_code(code):\n",
    "    dead_code = \"\\n    int dummy = 0; // dead code\"\n",
    "    brace_idx = code.find('{')\n",
    "    if brace_idx != -1:\n",
    "        return code[:brace_idx+1] + dead_code + code[brace_idx+1:]\n",
    "    return code\n",
    "\n",
    "df_train['func_aug'] = df_train['func_aug'].apply(insert_dead_code)"
   ],
   "id": "3e2db1c1ff7f1d9d",
   "outputs": [],
   "execution_count": 43
  },
  {
   "metadata": {
    "ExecuteTime": {
     "end_time": "2025-04-23T21:36:39.816778Z",
     "start_time": "2025-04-23T21:36:29.312558Z"
    }
   },
   "cell_type": "code",
   "source": [
    "def extract_features(code):\n",
    "    return {\n",
    "        \"func_length\": len(code.split()),\n",
    "        \"num_loops\": code.count(\"for\") + code.count(\"while\"),\n",
    "        \"has_eval\": int(\"eval\" in code or \"exec\" in code),\n",
    "        \"has_system\": int(\"system\" in code or \"os.\" in code),\n",
    "        \"num_if\": code.count(\"if\"),\n",
    "        \"num_return\": code.count(\"return\"),\n",
    "        \"uses_pointer\": int(\"*\" in code),\n",
    "        \"uses_buffer\": int(\"buffer\" in code or \"char\" in code)\n",
    "    }\n",
    "\n",
    "features = df_train['func'].apply(extract_features).apply(pd.Series)\n",
    "df_train = pd.concat([df_train, features], axis=1)"
   ],
   "id": "7f28094d38d583f2",
   "outputs": [],
   "execution_count": 44
  },
  {
   "metadata": {
    "ExecuteTime": {
     "end_time": "2025-04-23T21:36:56.140903Z",
     "start_time": "2025-04-23T21:36:39.880389Z"
    }
   },
   "cell_type": "code",
   "source": [
    "import ast\n",
    "\n",
    "# Convert token dict into separate string columns\n",
    "df_train[\"input_ids\"] = df_train[\"tokens\"].apply(lambda x: x[\"input_ids\"])\n",
    "df_train[\"attention_mask\"] = df_train[\"tokens\"].apply(lambda x: x[\"attention_mask\"])\n",
    "\n",
    "df_valid[\"input_ids\"] = df_valid[\"tokens\"].apply(lambda x: x[\"input_ids\"])\n",
    "df_valid[\"attention_mask\"] = df_valid[\"tokens\"].apply(lambda x: x[\"attention_mask\"])\n",
    "\n",
    "df_test[\"input_ids\"] = df_test[\"tokens\"].apply(lambda x: x[\"input_ids\"])\n",
    "df_test[\"attention_mask\"] = df_test[\"tokens\"].apply(lambda x: x[\"attention_mask\"])\n",
    "\n",
    "# Drop the original tokens dictionary column\n",
    "df_train.drop(columns=[\"tokens\"], inplace=True)\n",
    "df_valid.drop(columns=[\"tokens\"], inplace=True)\n",
    "df_test.drop(columns=[\"tokens\"], inplace=True)\n",
    "\n",
    "# Save to CSV\n",
    "df_train.to_csv(\"datasets/security/train_preprocessed.csv\", index=False)\n",
    "df_valid.to_csv(\"datasets/security/valid_preprocessed.csv\", index=False)\n",
    "df_test.to_csv(\"datasets/security/test_preprocessed.csv\", index=False)\n",
    "\n",
    "print(\"Preprocessed data saved as CSVs.\")\n"
   ],
   "id": "c9d32ec739a78dd1",
   "outputs": [
    {
     "name": "stdout",
     "output_type": "stream",
     "text": [
      "Preprocessed data saved as CSVs.\n"
     ]
    }
   ],
   "execution_count": 45
  },
  {
   "metadata": {},
   "cell_type": "code",
   "outputs": [],
   "execution_count": null,
   "source": "",
   "id": "9d1615b137b51d72"
  }
 ],
 "metadata": {
  "kernelspec": {
   "display_name": "Python 3",
   "language": "python",
   "name": "python3"
  },
  "language_info": {
   "codemirror_mode": {
    "name": "ipython",
    "version": 2
   },
   "file_extension": ".py",
   "mimetype": "text/x-python",
   "name": "python",
   "nbconvert_exporter": "python",
   "pygments_lexer": "ipython2",
   "version": "2.7.6"
  }
 },
 "nbformat": 4,
 "nbformat_minor": 5
}
